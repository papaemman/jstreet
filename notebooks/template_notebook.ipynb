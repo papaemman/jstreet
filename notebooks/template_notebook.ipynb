{
 "cells": [
  {
   "cell_type": "markdown",
   "metadata": {},
   "source": [
    "# Template Jupyter Notebook "
   ]
  },
  {
   "cell_type": "markdown",
   "metadata": {},
   "source": [
    "## Check environment"
   ]
  },
  {
   "cell_type": "code",
   "execution_count": 1,
   "metadata": {},
   "outputs": [
    {
     "name": "stdout",
     "output_type": "stream",
     "text": [
      "3.6.1 (default, Sep  7 2017, 16:36:03) \n",
      "[GCC 6.3.0 20170406]\n",
      "/home/panagiotis.medoid/jstreet-venv/bin/python3.6\n"
     ]
    }
   ],
   "source": [
    "# Python version and python executable (Virtual environment path)\n",
    "import sys\n",
    "print(sys.version)\n",
    "print(sys.executable)"
   ]
  },
  {
   "cell_type": "code",
   "execution_count": 2,
   "metadata": {
    "scrolled": true
   },
   "outputs": [
    {
     "name": "stdout",
     "output_type": "stream",
     "text": [
      "\u001b[31mDEPRECATION: The default format will switch to columns in the future. You can use --format=(legacy|columns) (or define a format=(legacy|columns) in your pip.conf under the [list] section) to disable this warning.\u001b[0m\r\n",
      "argon2-cffi (20.1.0)\r\n",
      "async-generator (1.10)\r\n",
      "attrs (20.3.0)\r\n",
      "backcall (0.2.0)\r\n",
      "bleach (3.2.1)\r\n",
      "certifi (2020.11.8)\r\n",
      "cffi (1.14.4)\r\n",
      "chardet (3.0.4)\r\n",
      "cmake (3.18.4.post1)\r\n",
      "cycler (0.10.0)\r\n",
      "decorator (4.4.2)\r\n",
      "defusedxml (0.6.0)\r\n",
      "entrypoints (0.3)\r\n",
      "idna (2.10)\r\n",
      "importlib-metadata (3.1.1)\r\n",
      "ipykernel (5.3.4)\r\n",
      "ipython (7.16.1)\r\n",
      "ipython-genutils (0.2.0)\r\n",
      "jedi (0.17.2)\r\n",
      "Jinja2 (2.11.2)\r\n",
      "joblib (0.17.0)\r\n",
      "jsonschema (3.2.0)\r\n",
      "jupyter-client (6.1.7)\r\n",
      "jupyter-contrib-core (0.3.3)\r\n",
      "jupyter-contrib-nbextensions (0.5.1)\r\n",
      "jupyter-core (4.7.0)\r\n",
      "jupyter-highlight-selected-word (0.2.0)\r\n",
      "jupyter-latex-envs (1.4.6)\r\n",
      "jupyter-nbextensions-configurator (0.4.1)\r\n",
      "jupyterlab-pygments (0.1.2)\r\n",
      "kaggle (1.5.10)\r\n",
      "kiwisolver (1.3.1)\r\n",
      "lightgbm (3.1.0)\r\n",
      "lxml (4.6.2)\r\n",
      "MarkupSafe (1.1.1)\r\n",
      "matplotlib (3.3.3)\r\n",
      "mistune (0.8.4)\r\n",
      "nbclient (0.5.1)\r\n",
      "nbconvert (6.0.7)\r\n",
      "nbformat (5.0.8)\r\n",
      "nest-asyncio (1.4.3)\r\n",
      "notebook (6.1.5)\r\n",
      "numpy (1.19.4)\r\n",
      "packaging (20.7)\r\n",
      "pandas (1.1.4)\r\n",
      "pandocfilters (1.4.3)\r\n",
      "parso (0.7.1)\r\n",
      "pexpect (4.8.0)\r\n",
      "pickleshare (0.7.5)\r\n",
      "Pillow (8.0.1)\r\n",
      "pip (9.0.1)\r\n",
      "pkg-resources (0.0.0)\r\n",
      "prometheus-client (0.9.0)\r\n",
      "prompt-toolkit (3.0.8)\r\n",
      "ptyprocess (0.6.0)\r\n",
      "pycparser (2.20)\r\n",
      "Pygments (2.7.2)\r\n",
      "pyparsing (2.4.7)\r\n",
      "pyrsistent (0.17.3)\r\n",
      "python-dateutil (2.8.1)\r\n",
      "python-slugify (4.0.1)\r\n",
      "pytz (2020.4)\r\n",
      "PyYAML (5.3.1)\r\n",
      "pyzmq (20.0.0)\r\n",
      "requests (2.25.0)\r\n",
      "scikit-learn (0.23.2)\r\n",
      "scipy (1.5.4)\r\n",
      "seaborn (0.11.0)\r\n",
      "Send2Trash (1.5.0)\r\n",
      "setuptools (50.3.2)\r\n",
      "six (1.15.0)\r\n",
      "sklearn (0.0)\r\n",
      "terminado (0.9.1)\r\n",
      "testpath (0.4.4)\r\n",
      "text-unidecode (1.3)\r\n",
      "threadpoolctl (2.1.0)\r\n",
      "tornado (6.1)\r\n",
      "tqdm (4.54.0)\r\n",
      "traitlets (4.3.3)\r\n",
      "urllib3 (1.26.2)\r\n",
      "wcwidth (0.2.5)\r\n",
      "webencodings (0.5.1)\r\n",
      "wheel (0.36.0)\r\n",
      "zipp (3.4.0)\r\n"
     ]
    }
   ],
   "source": [
    "# List of molules and versions in python virtual environment\n",
    "! pip list"
   ]
  },
  {
   "cell_type": "code",
   "execution_count": 3,
   "metadata": {},
   "outputs": [
    {
     "name": "stdout",
     "output_type": "stream",
     "text": [
      "\u001b[31mDEPRECATION: The default format will switch to columns in the future. You can use --format=(legacy|columns) (or define a format=(legacy|columns) in your pip.conf under the [list] section) to disable this warning.\u001b[0m\n",
      "numpy (1.19.4)\n",
      "pandas (1.1.4)\n",
      "scikit-learn (0.23.2)\n"
     ]
    }
   ],
   "source": [
    "# Check verions for specific packages\n",
    "! pip list | grep \"pandas\\|numpy\\|scikit-learn\""
   ]
  }
 ],
 "metadata": {
  "kernelspec": {
   "display_name": "Python 3",
   "language": "python",
   "name": "python3"
  },
  "language_info": {
   "codemirror_mode": {
    "name": "ipython",
    "version": 3
   },
   "file_extension": ".py",
   "mimetype": "text/x-python",
   "name": "python",
   "nbconvert_exporter": "python",
   "pygments_lexer": "ipython3",
   "version": "3.6.1"
  },
  "toc": {
   "base_numbering": 1,
   "nav_menu": {},
   "number_sections": true,
   "sideBar": true,
   "skip_h1_title": false,
   "title_cell": "Table of Contents",
   "title_sidebar": "Contents",
   "toc_cell": false,
   "toc_position": {},
   "toc_section_display": true,
   "toc_window_display": true
  },
  "varInspector": {
   "cols": {
    "lenName": 16,
    "lenType": 16,
    "lenVar": 40
   },
   "kernels_config": {
    "python": {
     "delete_cmd_postfix": "",
     "delete_cmd_prefix": "del ",
     "library": "var_list.py",
     "varRefreshCmd": "print(var_dic_list())"
    },
    "r": {
     "delete_cmd_postfix": ") ",
     "delete_cmd_prefix": "rm(",
     "library": "var_list.r",
     "varRefreshCmd": "cat(var_dic_list()) "
    }
   },
   "types_to_exclude": [
    "module",
    "function",
    "builtin_function_or_method",
    "instance",
    "_Feature"
   ],
   "window_display": false
  }
 },
 "nbformat": 4,
 "nbformat_minor": 4
}
