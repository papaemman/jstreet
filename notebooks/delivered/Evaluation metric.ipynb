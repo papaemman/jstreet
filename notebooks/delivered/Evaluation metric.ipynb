{
 "cells": [
  {
   "cell_type": "markdown",
   "metadata": {},
   "source": [
    "# Implement Evaluation metric (utility score)"
   ]
  },
  {
   "cell_type": "code",
   "execution_count": 32,
   "metadata": {},
   "outputs": [],
   "source": [
    "# Load modules\n",
    "import numpy as np\n",
    "import pandas as pd\n",
    "import xgboost as xgb\n",
    "import janestreet"
   ]
  },
  {
   "cell_type": "markdown",
   "metadata": {},
   "source": [
    "**Utility score**\n",
    "\n",
    "$ u = min(max(t,0), 6)* \\sum{p_i}$\n",
    "\n",
    "\n",
    "<br/>\n",
    "\n",
    "**Annualized sharpe ratio:**\n",
    "\n",
    "* $ t = \\frac{\\sum p_i }{\\sqrt{\\sum p_i^{2}}} * \\sqrt{\\frac{250}{\\left | i \\right |}}$\n",
    "\n",
    "<br/>\n",
    "\n",
    "**Profit per date i:**\n",
    "\n",
    "* $ p_i = \\sum_{j}^{} (weight_ij * resp_ij * action_ij)$\n",
    "\n",
    "<br/>\n",
    "where |i| is the number of unique dates in the test set"
   ]
  },
  {
   "cell_type": "code",
   "execution_count": 35,
   "metadata": {},
   "outputs": [],
   "source": [
    "valid_df = pd.read_csv(\"../datasets/valid/valid_last_50_days.csv\")\n",
    "submission_df = pd.read_csv(\"../datasets/submission-files/submission_valid_last_50_days.csv\")\n",
    "\n",
    "assert len(valid_df) == len(submission_df)"
   ]
  },
  {
   "cell_type": "code",
   "execution_count": 38,
   "metadata": {},
   "outputs": [
    {
     "data": {
      "text/html": [
       "<div>\n",
       "<style scoped>\n",
       "    .dataframe tbody tr th:only-of-type {\n",
       "        vertical-align: middle;\n",
       "    }\n",
       "\n",
       "    .dataframe tbody tr th {\n",
       "        vertical-align: top;\n",
       "    }\n",
       "\n",
       "    .dataframe thead th {\n",
       "        text-align: right;\n",
       "    }\n",
       "</style>\n",
       "<table border=\"1\" class=\"dataframe\">\n",
       "  <thead>\n",
       "    <tr style=\"text-align: right;\">\n",
       "      <th></th>\n",
       "      <th>ts_id</th>\n",
       "      <th>date</th>\n",
       "      <th>weight</th>\n",
       "      <th>resp</th>\n",
       "    </tr>\n",
       "  </thead>\n",
       "  <tbody>\n",
       "    <tr>\n",
       "      <th>0</th>\n",
       "      <td>2112176</td>\n",
       "      <td>450</td>\n",
       "      <td>0.097428</td>\n",
       "      <td>-0.000529</td>\n",
       "    </tr>\n",
       "    <tr>\n",
       "      <th>1</th>\n",
       "      <td>2112177</td>\n",
       "      <td>450</td>\n",
       "      <td>0.000000</td>\n",
       "      <td>0.016989</td>\n",
       "    </tr>\n",
       "    <tr>\n",
       "      <th>2</th>\n",
       "      <td>2112178</td>\n",
       "      <td>450</td>\n",
       "      <td>0.651918</td>\n",
       "      <td>-0.003983</td>\n",
       "    </tr>\n",
       "    <tr>\n",
       "      <th>3</th>\n",
       "      <td>2112179</td>\n",
       "      <td>450</td>\n",
       "      <td>0.000000</td>\n",
       "      <td>-0.013215</td>\n",
       "    </tr>\n",
       "    <tr>\n",
       "      <th>4</th>\n",
       "      <td>2112180</td>\n",
       "      <td>450</td>\n",
       "      <td>3.784365</td>\n",
       "      <td>-0.000527</td>\n",
       "    </tr>\n",
       "  </tbody>\n",
       "</table>\n",
       "</div>"
      ],
      "text/plain": [
       "     ts_id  date    weight      resp\n",
       "0  2112176   450  0.097428 -0.000529\n",
       "1  2112177   450  0.000000  0.016989\n",
       "2  2112178   450  0.651918 -0.003983\n",
       "3  2112179   450  0.000000 -0.013215\n",
       "4  2112180   450  3.784365 -0.000527"
      ]
     },
     "execution_count": 38,
     "metadata": {},
     "output_type": "execute_result"
    }
   ],
   "source": [
    "valid_df[[\"ts_id\",\"date\", \"weight\", \"resp\"]].head()"
   ]
  },
  {
   "cell_type": "code",
   "execution_count": 36,
   "metadata": {},
   "outputs": [
    {
     "data": {
      "text/html": [
       "<div>\n",
       "<style scoped>\n",
       "    .dataframe tbody tr th:only-of-type {\n",
       "        vertical-align: middle;\n",
       "    }\n",
       "\n",
       "    .dataframe tbody tr th {\n",
       "        vertical-align: top;\n",
       "    }\n",
       "\n",
       "    .dataframe thead th {\n",
       "        text-align: right;\n",
       "    }\n",
       "</style>\n",
       "<table border=\"1\" class=\"dataframe\">\n",
       "  <thead>\n",
       "    <tr style=\"text-align: right;\">\n",
       "      <th></th>\n",
       "      <th>ts_id</th>\n",
       "      <th>action</th>\n",
       "    </tr>\n",
       "  </thead>\n",
       "  <tbody>\n",
       "    <tr>\n",
       "      <th>0</th>\n",
       "      <td>2112176</td>\n",
       "      <td>0</td>\n",
       "    </tr>\n",
       "    <tr>\n",
       "      <th>1</th>\n",
       "      <td>2112177</td>\n",
       "      <td>0</td>\n",
       "    </tr>\n",
       "    <tr>\n",
       "      <th>2</th>\n",
       "      <td>2112178</td>\n",
       "      <td>0</td>\n",
       "    </tr>\n",
       "    <tr>\n",
       "      <th>3</th>\n",
       "      <td>2112179</td>\n",
       "      <td>0</td>\n",
       "    </tr>\n",
       "    <tr>\n",
       "      <th>4</th>\n",
       "      <td>2112180</td>\n",
       "      <td>0</td>\n",
       "    </tr>\n",
       "  </tbody>\n",
       "</table>\n",
       "</div>"
      ],
      "text/plain": [
       "     ts_id  action\n",
       "0  2112176       0\n",
       "1  2112177       0\n",
       "2  2112178       0\n",
       "3  2112179       0\n",
       "4  2112180       0"
      ]
     },
     "execution_count": 36,
     "metadata": {},
     "output_type": "execute_result"
    }
   ],
   "source": [
    "submission_df.head()"
   ]
  },
  {
   "cell_type": "code",
   "execution_count": 55,
   "metadata": {},
   "outputs": [],
   "source": [
    "def utility(valid_df, submission_df) :\n",
    "    \"\"\"\n",
    "    Fast imlementation of the evaluation metric (utility score)\n",
    "    \n",
    "    Arguments\n",
    "    ------------\n",
    "    \n",
    "    valid_df   : validation data frame with columns ts_id, date, weight, resp\n",
    "    submission : ts_id, action \n",
    "    \n",
    "    \n",
    "    Return\n",
    "    ---------\n",
    "    - utility score \n",
    "    - t (annualized sharpe ratio)\n",
    "    - Σpi (total profit)\n",
    "    - pi (profit per day)\n",
    "    \n",
    "    \n",
    "    \"\"\"\n",
    "    \n",
    "    # From valid df keep only usefull columns and merge submission file to it\n",
    "    valid_df = valid_df[[\"ts_id\", \"date\", \"weight\", \"resp\"]].merge(submission_df, on=\"ts_id\", how=\"left\")\n",
    "    \n",
    "    # Calulate profit for specific ts_id wrt action (trade)\n",
    "    valid_df[\"profit\"] = valid_df[\"weight\"] * valid_df[\"resp\"] * valid_df[\"action\"]\n",
    "    \n",
    "    \n",
    "    # Calculate Profit per date (pi) - return this\n",
    "    profit_df = (valid_df\n",
    "                 .groupby(\"date\")\n",
    "                 .agg({\"profit\": [\"sum\"]}))\n",
    "\n",
    "    profit_df.columns = [\"_\".join(x) for x in profit_df.columns.ravel()]\n",
    "    profit_df.reset_index(inplace=True)\n",
    "    \n",
    "    # Calculate total profits (Σpi)\n",
    "    a = sum(profit_df[\"profit_sum\"]) \n",
    "\n",
    "    \n",
    "    # Calculate std of profits per day (sqrt(Σpi^2))\n",
    "    b = np.sqrt(sum(profit_df[\"profit_sum\"]**2))\n",
    "\n",
    "    # Count total number of days (|i|)\n",
    "    i = profit_df[\"date\"].nunique()\n",
    "    \n",
    "\n",
    "    # Calculate t\n",
    "    t = (a/b) * np.sqrt(250/i)\n",
    "    \n",
    "\n",
    "    # Calculate utility score\n",
    "    utility_score = min(max(t,0),6)*a\n",
    "    \n",
    "    results = {\"utility_score\": utility_score,\n",
    "               \"total_nb_of_days\": i,\n",
    "               \"t\": t,\n",
    "               \"a\": a,\n",
    "               \"b\": b,\n",
    "               \"profit_df\":profit_df,\n",
    "               \"details\": \"a = Σpi | b = sqrt(Σpi^2) | profit_df: total profit per day\"}\n",
    "\n",
    "    return results"
   ]
  },
  {
   "cell_type": "code",
   "execution_count": 56,
   "metadata": {},
   "outputs": [
    {
     "data": {
      "text/plain": [
       "{'utility_score': 9361.747177976697,\n",
       " 'total_nb_of_days': 50,\n",
       " 't': 12.569676512866973,\n",
       " 'a': 1560.2911963294496,\n",
       " 'b': 277.5661868557781,\n",
       " 'profit_df':     date  profit_sum\n",
       " 0    450   23.444081\n",
       " 1    451   16.400408\n",
       " 2    452   78.258666\n",
       " 3    453   18.453676\n",
       " 4    454   65.167986\n",
       " 5    455   20.463085\n",
       " 6    456   29.947889\n",
       " 7    457    9.976482\n",
       " 8    458   22.404476\n",
       " 9    459  132.262878\n",
       " 10   460   23.482094\n",
       " 11   461   26.551965\n",
       " 12   462   77.645267\n",
       " 13   463   19.693399\n",
       " 14   464   21.566155\n",
       " 15   465   30.723766\n",
       " 16   466   33.315739\n",
       " 17   467   25.171849\n",
       " 18   468   76.670458\n",
       " 19   469   52.890403\n",
       " 20   470   40.319342\n",
       " 21   471   20.904562\n",
       " 22   472   18.971141\n",
       " 23   473   12.315830\n",
       " 24   474   27.615416\n",
       " 25   475   49.987516\n",
       " 26   476   12.737471\n",
       " 27   477    9.508138\n",
       " 28   478   20.259667\n",
       " 29   479   16.667461\n",
       " 30   480    7.910881\n",
       " 31   481   23.339572\n",
       " 32   482   21.901841\n",
       " 33   483   18.249735\n",
       " 34   484   20.181851\n",
       " 35   485    7.006635\n",
       " 36   486   15.283073\n",
       " 37   487   15.249557\n",
       " 38   488   72.017292\n",
       " 39   489   41.451295\n",
       " 40   490    9.556089\n",
       " 41   491   39.719319\n",
       " 42   492   53.954085\n",
       " 43   493   25.219972\n",
       " 44   494   18.669297\n",
       " 45   495   44.355456\n",
       " 46   496   21.223381\n",
       " 47   497    9.464333\n",
       " 48   498   13.593467\n",
       " 49   499   48.166801,\n",
       " 'details': 'a = Σpi | b = sqrt(Σpi^2) | profit_df: total profit per day'}"
      ]
     },
     "execution_count": 56,
     "metadata": {},
     "output_type": "execute_result"
    }
   ],
   "source": [
    "# Test function\n",
    "utility(valid_df, submission_df)"
   ]
  },
  {
   "cell_type": "markdown",
   "metadata": {
    "heading_collapsed": true
   },
   "source": [
    "## Detailed explanation"
   ]
  },
  {
   "cell_type": "code",
   "execution_count": 40,
   "metadata": {
    "hidden": true
   },
   "outputs": [
    {
     "data": {
      "text/html": [
       "<div>\n",
       "<style scoped>\n",
       "    .dataframe tbody tr th:only-of-type {\n",
       "        vertical-align: middle;\n",
       "    }\n",
       "\n",
       "    .dataframe tbody tr th {\n",
       "        vertical-align: top;\n",
       "    }\n",
       "\n",
       "    .dataframe thead th {\n",
       "        text-align: right;\n",
       "    }\n",
       "</style>\n",
       "<table border=\"1\" class=\"dataframe\">\n",
       "  <thead>\n",
       "    <tr style=\"text-align: right;\">\n",
       "      <th></th>\n",
       "      <th>ts_id</th>\n",
       "      <th>date</th>\n",
       "      <th>weight</th>\n",
       "      <th>resp</th>\n",
       "      <th>action</th>\n",
       "    </tr>\n",
       "  </thead>\n",
       "  <tbody>\n",
       "    <tr>\n",
       "      <th>0</th>\n",
       "      <td>2112176</td>\n",
       "      <td>450</td>\n",
       "      <td>0.097428</td>\n",
       "      <td>-0.000529</td>\n",
       "      <td>0</td>\n",
       "    </tr>\n",
       "    <tr>\n",
       "      <th>1</th>\n",
       "      <td>2112177</td>\n",
       "      <td>450</td>\n",
       "      <td>0.000000</td>\n",
       "      <td>0.016989</td>\n",
       "      <td>0</td>\n",
       "    </tr>\n",
       "    <tr>\n",
       "      <th>2</th>\n",
       "      <td>2112178</td>\n",
       "      <td>450</td>\n",
       "      <td>0.651918</td>\n",
       "      <td>-0.003983</td>\n",
       "      <td>0</td>\n",
       "    </tr>\n",
       "    <tr>\n",
       "      <th>3</th>\n",
       "      <td>2112179</td>\n",
       "      <td>450</td>\n",
       "      <td>0.000000</td>\n",
       "      <td>-0.013215</td>\n",
       "      <td>0</td>\n",
       "    </tr>\n",
       "    <tr>\n",
       "      <th>4</th>\n",
       "      <td>2112180</td>\n",
       "      <td>450</td>\n",
       "      <td>3.784365</td>\n",
       "      <td>-0.000527</td>\n",
       "      <td>0</td>\n",
       "    </tr>\n",
       "  </tbody>\n",
       "</table>\n",
       "</div>"
      ],
      "text/plain": [
       "     ts_id  date    weight      resp  action\n",
       "0  2112176   450  0.097428 -0.000529       0\n",
       "1  2112177   450  0.000000  0.016989       0\n",
       "2  2112178   450  0.651918 -0.003983       0\n",
       "3  2112179   450  0.000000 -0.013215       0\n",
       "4  2112180   450  3.784365 -0.000527       0"
      ]
     },
     "execution_count": 40,
     "metadata": {},
     "output_type": "execute_result"
    }
   ],
   "source": [
    "# From valid df keep only usefull columns and merge submission file to it\n",
    "valid_df = valid_df[[\"ts_id\", \"date\", \"weight\", \"resp\"]].merge(submission_df, on=\"ts_id\", how=\"left\")"
   ]
  },
  {
   "cell_type": "code",
   "execution_count": 41,
   "metadata": {
    "hidden": true
   },
   "outputs": [],
   "source": [
    "# Calulate profit for specific ts_id wrt action (trade)\n",
    "valid_df[\"profit\"] = valid_df[\"weight\"] * valid_df[\"resp\"] * valid_df[\"action\"]"
   ]
  },
  {
   "cell_type": "code",
   "execution_count": 42,
   "metadata": {
    "hidden": true
   },
   "outputs": [
    {
     "data": {
      "text/html": [
       "<div>\n",
       "<style scoped>\n",
       "    .dataframe tbody tr th:only-of-type {\n",
       "        vertical-align: middle;\n",
       "    }\n",
       "\n",
       "    .dataframe tbody tr th {\n",
       "        vertical-align: top;\n",
       "    }\n",
       "\n",
       "    .dataframe thead th {\n",
       "        text-align: right;\n",
       "    }\n",
       "</style>\n",
       "<table border=\"1\" class=\"dataframe\">\n",
       "  <thead>\n",
       "    <tr style=\"text-align: right;\">\n",
       "      <th></th>\n",
       "      <th>ts_id</th>\n",
       "      <th>date</th>\n",
       "      <th>weight</th>\n",
       "      <th>resp</th>\n",
       "      <th>action</th>\n",
       "      <th>profit</th>\n",
       "    </tr>\n",
       "  </thead>\n",
       "  <tbody>\n",
       "    <tr>\n",
       "      <th>0</th>\n",
       "      <td>2112176</td>\n",
       "      <td>450</td>\n",
       "      <td>0.097428</td>\n",
       "      <td>-0.000529</td>\n",
       "      <td>0</td>\n",
       "      <td>-0.0</td>\n",
       "    </tr>\n",
       "    <tr>\n",
       "      <th>1</th>\n",
       "      <td>2112177</td>\n",
       "      <td>450</td>\n",
       "      <td>0.000000</td>\n",
       "      <td>0.016989</td>\n",
       "      <td>0</td>\n",
       "      <td>0.0</td>\n",
       "    </tr>\n",
       "    <tr>\n",
       "      <th>2</th>\n",
       "      <td>2112178</td>\n",
       "      <td>450</td>\n",
       "      <td>0.651918</td>\n",
       "      <td>-0.003983</td>\n",
       "      <td>0</td>\n",
       "      <td>-0.0</td>\n",
       "    </tr>\n",
       "    <tr>\n",
       "      <th>3</th>\n",
       "      <td>2112179</td>\n",
       "      <td>450</td>\n",
       "      <td>0.000000</td>\n",
       "      <td>-0.013215</td>\n",
       "      <td>0</td>\n",
       "      <td>-0.0</td>\n",
       "    </tr>\n",
       "    <tr>\n",
       "      <th>4</th>\n",
       "      <td>2112180</td>\n",
       "      <td>450</td>\n",
       "      <td>3.784365</td>\n",
       "      <td>-0.000527</td>\n",
       "      <td>0</td>\n",
       "      <td>-0.0</td>\n",
       "    </tr>\n",
       "  </tbody>\n",
       "</table>\n",
       "</div>"
      ],
      "text/plain": [
       "     ts_id  date    weight      resp  action  profit\n",
       "0  2112176   450  0.097428 -0.000529       0    -0.0\n",
       "1  2112177   450  0.000000  0.016989       0     0.0\n",
       "2  2112178   450  0.651918 -0.003983       0    -0.0\n",
       "3  2112179   450  0.000000 -0.013215       0    -0.0\n",
       "4  2112180   450  3.784365 -0.000527       0    -0.0"
      ]
     },
     "execution_count": 42,
     "metadata": {},
     "output_type": "execute_result"
    }
   ],
   "source": [
    "valid_df.head()"
   ]
  },
  {
   "cell_type": "code",
   "execution_count": 43,
   "metadata": {
    "hidden": true,
    "scrolled": true
   },
   "outputs": [
    {
     "data": {
      "text/html": [
       "<div>\n",
       "<style scoped>\n",
       "    .dataframe tbody tr th:only-of-type {\n",
       "        vertical-align: middle;\n",
       "    }\n",
       "\n",
       "    .dataframe tbody tr th {\n",
       "        vertical-align: top;\n",
       "    }\n",
       "\n",
       "    .dataframe thead th {\n",
       "        text-align: right;\n",
       "    }\n",
       "</style>\n",
       "<table border=\"1\" class=\"dataframe\">\n",
       "  <thead>\n",
       "    <tr style=\"text-align: right;\">\n",
       "      <th></th>\n",
       "      <th>date</th>\n",
       "      <th>profit_sum</th>\n",
       "    </tr>\n",
       "  </thead>\n",
       "  <tbody>\n",
       "    <tr>\n",
       "      <th>0</th>\n",
       "      <td>450</td>\n",
       "      <td>23.444081</td>\n",
       "    </tr>\n",
       "    <tr>\n",
       "      <th>1</th>\n",
       "      <td>451</td>\n",
       "      <td>16.400408</td>\n",
       "    </tr>\n",
       "    <tr>\n",
       "      <th>2</th>\n",
       "      <td>452</td>\n",
       "      <td>78.258666</td>\n",
       "    </tr>\n",
       "    <tr>\n",
       "      <th>3</th>\n",
       "      <td>453</td>\n",
       "      <td>18.453676</td>\n",
       "    </tr>\n",
       "    <tr>\n",
       "      <th>4</th>\n",
       "      <td>454</td>\n",
       "      <td>65.167986</td>\n",
       "    </tr>\n",
       "  </tbody>\n",
       "</table>\n",
       "</div>"
      ],
      "text/plain": [
       "   date  profit_sum\n",
       "0   450   23.444081\n",
       "1   451   16.400408\n",
       "2   452   78.258666\n",
       "3   453   18.453676\n",
       "4   454   65.167986"
      ]
     },
     "execution_count": 43,
     "metadata": {},
     "output_type": "execute_result"
    }
   ],
   "source": [
    "# Calculate Profit per date (pi) - return this\n",
    "\n",
    "profit_df = (valid_df\n",
    "             .groupby(\"date\")\n",
    "             .agg({\"profit\": [\"sum\"]}))\n",
    "\n",
    "profit_df.columns = [\"_\".join(x) for x in profit_df.columns.ravel()]\n",
    "profit_df.reset_index(inplace=True)\n",
    "profit_df.head()"
   ]
  },
  {
   "cell_type": "code",
   "execution_count": 44,
   "metadata": {
    "hidden": true
   },
   "outputs": [
    {
     "data": {
      "text/plain": [
       "<matplotlib.axes._subplots.AxesSubplot at 0x7f0c092dc290>"
      ]
     },
     "execution_count": 44,
     "metadata": {},
     "output_type": "execute_result"
    },
    {
     "data": {
      "image/png": "[encoded data removed]",
      "text/plain": [
       "<Figure size 432x288 with 1 Axes>"
      ]
     },
     "metadata": {
      "needs_background": "light"
     },
     "output_type": "display_data"
    }
   ],
   "source": [
    "# Plot profit per date \n",
    "profit_df[\"profit_sum\"].plot.line()"
   ]
  },
  {
   "cell_type": "code",
   "execution_count": 44,
   "metadata": {
    "hidden": true
   },
   "outputs": [],
   "source": [
    "# Calculate total profits (Σpi)\n",
    "a = sum(profit_df[\"profit_sum\"]) \n",
    "a"
   ]
  },
  {
   "cell_type": "code",
   "execution_count": 45,
   "metadata": {
    "hidden": true
   },
   "outputs": [],
   "source": [
    "# Calculate std of profits per day (sqrt(Σpi^2))\n",
    "b = np.sqrt(sum(profit_df[\"profit_sum\"]**2))\n",
    "b"
   ]
  },
  {
   "cell_type": "code",
   "execution_count": 47,
   "metadata": {
    "hidden": true
   },
   "outputs": [],
   "source": [
    "# Count total number of days (|i|)\n",
    "i = profit_df[\"date\"].nunique()\n",
    "i"
   ]
  },
  {
   "cell_type": "code",
   "execution_count": 48,
   "metadata": {
    "hidden": true
   },
   "outputs": [
    {
     "data": {
      "text/plain": [
       "12.569676512866973"
      ]
     },
     "execution_count": 48,
     "metadata": {},
     "output_type": "execute_result"
    }
   ],
   "source": [
    "# Calculate t\n",
    "t = (a/b) * np.sqrt(250/i)\n",
    "t"
   ]
  },
  {
   "cell_type": "code",
   "execution_count": 49,
   "metadata": {
    "hidden": true
   },
   "outputs": [
    {
     "data": {
      "text/plain": [
       "9361.747177976697"
      ]
     },
     "execution_count": 49,
     "metadata": {},
     "output_type": "execute_result"
    }
   ],
   "source": [
    "# Calculate utility score\n",
    "utility_score = min(max(t,0),6)*a\n",
    "utility_score"
   ]
  },
  {
   "cell_type": "markdown",
   "metadata": {},
   "source": [
    "## Calculate the maximum and minimum utility score (total and per date)"
   ]
  },
  {
   "cell_type": "code",
   "execution_count": 57,
   "metadata": {},
   "outputs": [],
   "source": [
    "valid_df = pd.read_csv(\"../datasets/valid/valid_last_50_days.csv\")\n",
    "submission_df = pd.read_csv(\"../datasets/submission-files/submission_valid_last_50_days.csv\")\n",
    "\n",
    "assert len(valid_df) == len(submission_df)"
   ]
  },
  {
   "cell_type": "code",
   "execution_count": 58,
   "metadata": {},
   "outputs": [
    {
     "data": {
      "text/plain": [
       "9361.747177976697"
      ]
     },
     "execution_count": 58,
     "metadata": {},
     "output_type": "execute_result"
    }
   ],
   "source": [
    "# My submission\n",
    "utility(valid_df, submission_df)[\"utility_score\"]"
   ]
  },
  {
   "cell_type": "code",
   "execution_count": 65,
   "metadata": {},
   "outputs": [
    {
     "data": {
      "text/plain": [
       "26114.80494449789"
      ]
     },
     "execution_count": 65,
     "metadata": {},
     "output_type": "execute_result"
    }
   ],
   "source": [
    "# Best possible utility score\n",
    "submission_df[\"action\"] = (valid_df[\"resp\"]>0).astype(int)\n",
    "utility(valid_df, submission_df)[\"utility_score\"]"
   ]
  },
  {
   "cell_type": "code",
   "execution_count": 66,
   "metadata": {},
   "outputs": [
    {
     "data": {
      "text/plain": [
       "-0.0"
      ]
     },
     "execution_count": 66,
     "metadata": {},
     "output_type": "execute_result"
    }
   ],
   "source": [
    "# Worst possible utility score\n",
    "submission_df[\"action\"] = (valid_df[\"resp\"]<0).astype(int)\n",
    "utility(valid_df, submission_df)[\"utility_score\"]"
   ]
  },
  {
   "cell_type": "markdown",
   "metadata": {},
   "source": [
    "# Create sample datasets (validation dataset, submission file)"
   ]
  },
  {
   "cell_type": "markdown",
   "metadata": {
    "heading_collapsed": true
   },
   "source": [
    "## Create validation dataset"
   ]
  },
  {
   "cell_type": "code",
   "execution_count": 4,
   "metadata": {
    "hidden": true
   },
   "outputs": [
    {
     "name": "stdout",
     "output_type": "stream",
     "text": [
      "Done loading data. Train shape is (2390491, 138)\n"
     ]
    }
   ],
   "source": [
    "# Load data\n",
    "import pandas as pd\n",
    "train = pd.read_csv('../input/jane-street-market-prediction/train.csv')\n",
    "print(f'Done loading data. Train shape is {train.shape}')"
   ]
  },
  {
   "cell_type": "code",
   "execution_count": 10,
   "metadata": {
    "hidden": true
   },
   "outputs": [
    {
     "name": "stdout",
     "output_type": "stream",
     "text": [
      "Days to keep (50,)\n",
      "Validation's dataset dimensions (278315, 138)\n"
     ]
    },
    {
     "data": {
      "text/html": [
       "<div>\n",
       "<style scoped>\n",
       "    .dataframe tbody tr th:only-of-type {\n",
       "        vertical-align: middle;\n",
       "    }\n",
       "\n",
       "    .dataframe tbody tr th {\n",
       "        vertical-align: top;\n",
       "    }\n",
       "\n",
       "    .dataframe thead th {\n",
       "        text-align: right;\n",
       "    }\n",
       "</style>\n",
       "<table border=\"1\" class=\"dataframe\">\n",
       "  <thead>\n",
       "    <tr style=\"text-align: right;\">\n",
       "      <th></th>\n",
       "      <th>date</th>\n",
       "      <th>weight</th>\n",
       "      <th>resp_1</th>\n",
       "      <th>resp_2</th>\n",
       "      <th>resp_3</th>\n",
       "      <th>resp_4</th>\n",
       "      <th>resp</th>\n",
       "      <th>feature_0</th>\n",
       "      <th>feature_1</th>\n",
       "      <th>feature_2</th>\n",
       "      <th>...</th>\n",
       "      <th>feature_121</th>\n",
       "      <th>feature_122</th>\n",
       "      <th>feature_123</th>\n",
       "      <th>feature_124</th>\n",
       "      <th>feature_125</th>\n",
       "      <th>feature_126</th>\n",
       "      <th>feature_127</th>\n",
       "      <th>feature_128</th>\n",
       "      <th>feature_129</th>\n",
       "      <th>ts_id</th>\n",
       "    </tr>\n",
       "  </thead>\n",
       "  <tbody>\n",
       "    <tr>\n",
       "      <th>2112176</th>\n",
       "      <td>450</td>\n",
       "      <td>0.097428</td>\n",
       "      <td>-0.000833</td>\n",
       "      <td>-0.000835</td>\n",
       "      <td>0.000108</td>\n",
       "      <td>0.000228</td>\n",
       "      <td>-0.000529</td>\n",
       "      <td>-1</td>\n",
       "      <td>-3.172026</td>\n",
       "      <td>-3.093182</td>\n",
       "      <td>...</td>\n",
       "      <td>NaN</td>\n",
       "      <td>1.821511</td>\n",
       "      <td>0.419634</td>\n",
       "      <td>1.575241</td>\n",
       "      <td>0.672071</td>\n",
       "      <td>2.251899</td>\n",
       "      <td>0.434210</td>\n",
       "      <td>1.976781</td>\n",
       "      <td>0.303244</td>\n",
       "      <td>2112176</td>\n",
       "    </tr>\n",
       "    <tr>\n",
       "      <th>2112177</th>\n",
       "      <td>450</td>\n",
       "      <td>0.000000</td>\n",
       "      <td>0.020888</td>\n",
       "      <td>0.027300</td>\n",
       "      <td>0.022484</td>\n",
       "      <td>0.005303</td>\n",
       "      <td>0.016989</td>\n",
       "      <td>1</td>\n",
       "      <td>-0.743662</td>\n",
       "      <td>-0.170975</td>\n",
       "      <td>...</td>\n",
       "      <td>NaN</td>\n",
       "      <td>1.589819</td>\n",
       "      <td>3.563125</td>\n",
       "      <td>0.556501</td>\n",
       "      <td>2.591933</td>\n",
       "      <td>1.023129</td>\n",
       "      <td>2.295010</td>\n",
       "      <td>1.455150</td>\n",
       "      <td>2.901352</td>\n",
       "      <td>2112177</td>\n",
       "    </tr>\n",
       "    <tr>\n",
       "      <th>2112178</th>\n",
       "      <td>450</td>\n",
       "      <td>0.651918</td>\n",
       "      <td>-0.001052</td>\n",
       "      <td>-0.001619</td>\n",
       "      <td>-0.003260</td>\n",
       "      <td>-0.005677</td>\n",
       "      <td>-0.003983</td>\n",
       "      <td>-1</td>\n",
       "      <td>-1.681272</td>\n",
       "      <td>-0.964650</td>\n",
       "      <td>...</td>\n",
       "      <td>NaN</td>\n",
       "      <td>-0.776762</td>\n",
       "      <td>4.241703</td>\n",
       "      <td>-0.096747</td>\n",
       "      <td>8.939113</td>\n",
       "      <td>-0.143409</td>\n",
       "      <td>7.521664</td>\n",
       "      <td>-0.121002</td>\n",
       "      <td>6.934114</td>\n",
       "      <td>2112178</td>\n",
       "    </tr>\n",
       "    <tr>\n",
       "      <th>2112179</th>\n",
       "      <td>450</td>\n",
       "      <td>0.000000</td>\n",
       "      <td>0.000168</td>\n",
       "      <td>0.001943</td>\n",
       "      <td>-0.001282</td>\n",
       "      <td>-0.022718</td>\n",
       "      <td>-0.013215</td>\n",
       "      <td>-1</td>\n",
       "      <td>-0.752843</td>\n",
       "      <td>-0.037552</td>\n",
       "      <td>...</td>\n",
       "      <td>NaN</td>\n",
       "      <td>-1.014563</td>\n",
       "      <td>3.512133</td>\n",
       "      <td>-0.186591</td>\n",
       "      <td>8.681816</td>\n",
       "      <td>-0.301604</td>\n",
       "      <td>7.203878</td>\n",
       "      <td>-0.780707</td>\n",
       "      <td>4.718900</td>\n",
       "      <td>2112179</td>\n",
       "    </tr>\n",
       "    <tr>\n",
       "      <th>2112180</th>\n",
       "      <td>450</td>\n",
       "      <td>3.784365</td>\n",
       "      <td>-0.000994</td>\n",
       "      <td>-0.002895</td>\n",
       "      <td>-0.003133</td>\n",
       "      <td>0.000731</td>\n",
       "      <td>-0.000527</td>\n",
       "      <td>1</td>\n",
       "      <td>-1.107572</td>\n",
       "      <td>-0.191019</td>\n",
       "      <td>...</td>\n",
       "      <td>NaN</td>\n",
       "      <td>-0.676558</td>\n",
       "      <td>1.898015</td>\n",
       "      <td>-0.564382</td>\n",
       "      <td>2.715748</td>\n",
       "      <td>-0.898087</td>\n",
       "      <td>2.017470</td>\n",
       "      <td>-1.037412</td>\n",
       "      <td>1.155234</td>\n",
       "      <td>2112180</td>\n",
       "    </tr>\n",
       "  </tbody>\n",
       "</table>\n",
       "<p>5 rows × 138 columns</p>\n",
       "</div>"
      ],
      "text/plain": [
       "         date    weight    resp_1    resp_2    resp_3    resp_4      resp  \\\n",
       "2112176   450  0.097428 -0.000833 -0.000835  0.000108  0.000228 -0.000529   \n",
       "2112177   450  0.000000  0.020888  0.027300  0.022484  0.005303  0.016989   \n",
       "2112178   450  0.651918 -0.001052 -0.001619 -0.003260 -0.005677 -0.003983   \n",
       "2112179   450  0.000000  0.000168  0.001943 -0.001282 -0.022718 -0.013215   \n",
       "2112180   450  3.784365 -0.000994 -0.002895 -0.003133  0.000731 -0.000527   \n",
       "\n",
       "         feature_0  feature_1  feature_2  ...  feature_121  feature_122  \\\n",
       "2112176         -1  -3.172026  -3.093182  ...          NaN     1.821511   \n",
       "2112177          1  -0.743662  -0.170975  ...          NaN     1.589819   \n",
       "2112178         -1  -1.681272  -0.964650  ...          NaN    -0.776762   \n",
       "2112179         -1  -0.752843  -0.037552  ...          NaN    -1.014563   \n",
       "2112180          1  -1.107572  -0.191019  ...          NaN    -0.676558   \n",
       "\n",
       "         feature_123  feature_124  feature_125  feature_126  feature_127  \\\n",
       "2112176     0.419634     1.575241     0.672071     2.251899     0.434210   \n",
       "2112177     3.563125     0.556501     2.591933     1.023129     2.295010   \n",
       "2112178     4.241703    -0.096747     8.939113    -0.143409     7.521664   \n",
       "2112179     3.512133    -0.186591     8.681816    -0.301604     7.203878   \n",
       "2112180     1.898015    -0.564382     2.715748    -0.898087     2.017470   \n",
       "\n",
       "         feature_128  feature_129    ts_id  \n",
       "2112176     1.976781     0.303244  2112176  \n",
       "2112177     1.455150     2.901352  2112177  \n",
       "2112178    -0.121002     6.934114  2112178  \n",
       "2112179    -0.780707     4.718900  2112179  \n",
       "2112180    -1.037412     1.155234  2112180  \n",
       "\n",
       "[5 rows x 138 columns]"
      ]
     },
     "execution_count": 10,
     "metadata": {},
     "output_type": "execute_result"
    }
   ],
   "source": [
    "# Create a validation dataset with last N days of the train dataset \n",
    "last_n_days = 50\n",
    "days_to_keep = train[\"date\"].unique()[-last_n_days:]\n",
    "valid = train[train[\"date\"].isin(days_to_keep)]\n",
    "\n",
    "print(f\"Days to keep {days_to_keep.shape}\")\n",
    "print(f\"Validation's dataset dimensions {valid.shape}\")\n",
    "\n",
    "valid.head()"
   ]
  },
  {
   "cell_type": "code",
   "execution_count": 11,
   "metadata": {
    "hidden": true
   },
   "outputs": [],
   "source": [
    "# Save validation dataset\n",
    "valid.to_csv(\"../datasets/valid/valid_last_50_days.csv\", index = False)"
   ]
  },
  {
   "cell_type": "markdown",
   "metadata": {
    "heading_collapsed": true
   },
   "source": [
    "## Create submission file"
   ]
  },
  {
   "cell_type": "code",
   "execution_count": 14,
   "metadata": {
    "hidden": true
   },
   "outputs": [
    {
     "data": {
      "text/plain": [
       "XGBClassifier(base_score=0.5, booster='gbtree', colsample_bylevel=1,\n",
       "              colsample_bynode=1, colsample_bytree=0.7, gamma=0, gpu_id=-1,\n",
       "              importance_type='gain', interaction_constraints='',\n",
       "              learning_rate=0.05, max_delta_step=0, max_depth=11,\n",
       "              min_child_weight=1, missing=-999, monotone_constraints='()',\n",
       "              n_estimators=500, n_jobs=10, num_parallel_tree=1,\n",
       "              random_state=2020, reg_alpha=0, reg_lambda=1, scale_pos_weight=1,\n",
       "              subsample=0.9, tree_method='hist', validate_parameters=1,\n",
       "              verbosity=2)"
      ]
     },
     "execution_count": 14,
     "metadata": {},
     "output_type": "execute_result"
    }
   ],
   "source": [
    "## Create a sample submission using a previously created model\n",
    "import joblib\n",
    "model = joblib.load(\"../models/xgboost_v0.joblib.dat\")\n",
    "model"
   ]
  },
  {
   "cell_type": "code",
   "execution_count": 17,
   "metadata": {
    "hidden": true,
    "scrolled": true
   },
   "outputs": [
    {
     "name": "stdout",
     "output_type": "stream",
     "text": [
      "model parameters ['_Booster', '__class__', '__delattr__', '__dict__', '__dir__', '__doc__', '__eq__', '__format__', '__ge__', '__getattribute__', '__getstate__', '__gt__', '__hash__', '__init__', '__init_subclass__', '__le__', '__lt__', '__module__', '__ne__', '__new__', '__reduce__', '__reduce_ex__', '__repr__', '__setattr__', '__setstate__', '__sizeof__', '__str__', '__subclasshook__', '__weakref__', '_check_n_features', '_estimator_type', '_features_count', '_get_param_names', '_get_tags', '_le', '_more_tags', '_repr_html_', '_repr_html_inner', '_repr_mimebundle_', '_validate_data', 'apply', 'base_score', 'booster', 'classes_', 'coef_', 'colsample_bylevel', 'colsample_bynode', 'colsample_bytree', 'evals_result', 'feature_importances_', 'fit', 'gamma', 'get_booster', 'get_num_boosting_rounds', 'get_params', 'get_xgb_params', 'gpu_id', 'importance_type', 'interaction_constraints', 'intercept_', 'kwargs', 'learning_rate', 'load_model', 'max_delta_step', 'max_depth', 'min_child_weight', 'missing', 'monotone_constraints', 'n_classes_', 'n_estimators', 'n_features_in_', 'n_jobs', 'num_parallel_tree', 'objective', 'predict', 'predict_proba', 'random_state', 'reg_alpha', 'reg_lambda', 'save_model', 'scale_pos_weight', 'score', 'set_params', 'subsample', 'tree_method', 'validate_parameters', 'verbosity']\n",
      "Number of Features is 130\n"
     ]
    },
    {
     "data": {
      "text/plain": [
       "['feature_0',\n",
       " 'feature_1',\n",
       " 'feature_2',\n",
       " 'feature_3',\n",
       " 'feature_4',\n",
       " 'feature_5',\n",
       " 'feature_6',\n",
       " 'feature_7',\n",
       " 'feature_8',\n",
       " 'feature_9',\n",
       " 'feature_10',\n",
       " 'feature_11',\n",
       " 'feature_12',\n",
       " 'feature_13',\n",
       " 'feature_14',\n",
       " 'feature_15',\n",
       " 'feature_16',\n",
       " 'feature_17',\n",
       " 'feature_18',\n",
       " 'feature_19',\n",
       " 'feature_20',\n",
       " 'feature_21',\n",
       " 'feature_22',\n",
       " 'feature_23',\n",
       " 'feature_24',\n",
       " 'feature_25',\n",
       " 'feature_26',\n",
       " 'feature_27',\n",
       " 'feature_28',\n",
       " 'feature_29',\n",
       " 'feature_30',\n",
       " 'feature_31',\n",
       " 'feature_32',\n",
       " 'feature_33',\n",
       " 'feature_34',\n",
       " 'feature_35',\n",
       " 'feature_36',\n",
       " 'feature_37',\n",
       " 'feature_38',\n",
       " 'feature_39',\n",
       " 'feature_40',\n",
       " 'feature_41',\n",
       " 'feature_42',\n",
       " 'feature_43',\n",
       " 'feature_44',\n",
       " 'feature_45',\n",
       " 'feature_46',\n",
       " 'feature_47',\n",
       " 'feature_48',\n",
       " 'feature_49',\n",
       " 'feature_50',\n",
       " 'feature_51',\n",
       " 'feature_52',\n",
       " 'feature_53',\n",
       " 'feature_54',\n",
       " 'feature_55',\n",
       " 'feature_56',\n",
       " 'feature_57',\n",
       " 'feature_58',\n",
       " 'feature_59',\n",
       " 'feature_60',\n",
       " 'feature_61',\n",
       " 'feature_62',\n",
       " 'feature_63',\n",
       " 'feature_64',\n",
       " 'feature_65',\n",
       " 'feature_66',\n",
       " 'feature_67',\n",
       " 'feature_68',\n",
       " 'feature_69',\n",
       " 'feature_70',\n",
       " 'feature_71',\n",
       " 'feature_72',\n",
       " 'feature_73',\n",
       " 'feature_74',\n",
       " 'feature_75',\n",
       " 'feature_76',\n",
       " 'feature_77',\n",
       " 'feature_78',\n",
       " 'feature_79',\n",
       " 'feature_80',\n",
       " 'feature_81',\n",
       " 'feature_82',\n",
       " 'feature_83',\n",
       " 'feature_84',\n",
       " 'feature_85',\n",
       " 'feature_86',\n",
       " 'feature_87',\n",
       " 'feature_88',\n",
       " 'feature_89',\n",
       " 'feature_90',\n",
       " 'feature_91',\n",
       " 'feature_92',\n",
       " 'feature_93',\n",
       " 'feature_94',\n",
       " 'feature_95',\n",
       " 'feature_96',\n",
       " 'feature_97',\n",
       " 'feature_98',\n",
       " 'feature_99',\n",
       " 'feature_100',\n",
       " 'feature_101',\n",
       " 'feature_102',\n",
       " 'feature_103',\n",
       " 'feature_104',\n",
       " 'feature_105',\n",
       " 'feature_106',\n",
       " 'feature_107',\n",
       " 'feature_108',\n",
       " 'feature_109',\n",
       " 'feature_110',\n",
       " 'feature_111',\n",
       " 'feature_112',\n",
       " 'feature_113',\n",
       " 'feature_114',\n",
       " 'feature_115',\n",
       " 'feature_116',\n",
       " 'feature_117',\n",
       " 'feature_118',\n",
       " 'feature_119',\n",
       " 'feature_120',\n",
       " 'feature_121',\n",
       " 'feature_122',\n",
       " 'feature_123',\n",
       " 'feature_124',\n",
       " 'feature_125',\n",
       " 'feature_126',\n",
       " 'feature_127',\n",
       " 'feature_128',\n",
       " 'feature_129']"
      ]
     },
     "execution_count": 17,
     "metadata": {},
     "output_type": "execute_result"
    }
   ],
   "source": [
    "# Check all the available attributes of the trained model\n",
    "\n",
    "print(\"model parameters:\", dir(model))\n",
    "print(f\"Number of Features is {model.n_features_in_}\")\n",
    "feature_names = model.get_booster().feature_names\n",
    "feature_names"
   ]
  },
  {
   "cell_type": "code",
   "execution_count": 19,
   "metadata": {
    "hidden": true
   },
   "outputs": [
    {
     "name": "stdout",
     "output_type": "stream",
     "text": [
      "[[0.84023947 0.15976053]\n",
      " [0.67122614 0.32877383]\n",
      " [0.59910345 0.40089658]\n",
      " ...\n",
      " [0.54661167 0.45338836]\n",
      " [0.69001544 0.30998456]\n",
      " [0.51245034 0.48754966]]\n",
      "[0.15976053 0.32877383 0.40089658 ... 0.45338836 0.30998456 0.48754966]\n"
     ]
    }
   ],
   "source": [
    "# Keep only necessary columns for prediction\n",
    "X_valid = valid[feature_names].copy()\n",
    "X_valid.fillna(999, inplace = True)\n",
    "\n",
    "preds = model.predict_proba(X_valid)\n",
    "print(preds)\n",
    "\n",
    "probability_for_action = preds[:,1]\n",
    "print(probability_for_action)"
   ]
  },
  {
   "cell_type": "code",
   "execution_count": 24,
   "metadata": {
    "hidden": true
   },
   "outputs": [
    {
     "data": {
      "text/plain": [
       "array([0, 0, 0, ..., 0, 0, 0])"
      ]
     },
     "execution_count": 24,
     "metadata": {},
     "output_type": "execute_result"
    }
   ],
   "source": [
    "# Create actions based on probabilities for action\n",
    "action = (probability_for_action>0.6).astype(int)\n",
    "action"
   ]
  },
  {
   "cell_type": "code",
   "execution_count": 26,
   "metadata": {
    "hidden": true
   },
   "outputs": [
    {
     "name": "stdout",
     "output_type": "stream",
     "text": [
      "Total actions: {0: 238919, 1: 39396}\n",
      "Percentage of actions: {0: 0.8584481612561307, 1: 0.14155183874386937}\n"
     ]
    }
   ],
   "source": [
    "# Print predicted actions\n",
    "import collections\n",
    "print(f\"Total actions: {dict(collections.Counter(action))}\")\n",
    "\n",
    "x = collections.Counter(action)\n",
    "total = len(action)\n",
    "for key in x:\n",
    "    x[key] /= total\n",
    "    \n",
    "print(f\"Percentage of actions: {dict(x)}\")"
   ]
  },
  {
   "cell_type": "code",
   "execution_count": 27,
   "metadata": {
    "hidden": true
   },
   "outputs": [],
   "source": [
    "# Create submission file\n",
    "submission_valid = pd.DataFrame({\"ts_id\": valid[\"ts_id\"],\n",
    "                                 \"action\": action})"
   ]
  },
  {
   "cell_type": "code",
   "execution_count": 28,
   "metadata": {
    "hidden": true
   },
   "outputs": [
    {
     "data": {
      "text/plain": [
       "(278315, 2)"
      ]
     },
     "execution_count": 28,
     "metadata": {},
     "output_type": "execute_result"
    }
   ],
   "source": [
    "submission_valid.shape"
   ]
  },
  {
   "cell_type": "code",
   "execution_count": 29,
   "metadata": {
    "hidden": true
   },
   "outputs": [
    {
     "data": {
      "text/html": [
       "<div>\n",
       "<style scoped>\n",
       "    .dataframe tbody tr th:only-of-type {\n",
       "        vertical-align: middle;\n",
       "    }\n",
       "\n",
       "    .dataframe tbody tr th {\n",
       "        vertical-align: top;\n",
       "    }\n",
       "\n",
       "    .dataframe thead th {\n",
       "        text-align: right;\n",
       "    }\n",
       "</style>\n",
       "<table border=\"1\" class=\"dataframe\">\n",
       "  <thead>\n",
       "    <tr style=\"text-align: right;\">\n",
       "      <th></th>\n",
       "      <th>ts_id</th>\n",
       "      <th>action</th>\n",
       "    </tr>\n",
       "  </thead>\n",
       "  <tbody>\n",
       "    <tr>\n",
       "      <th>2112176</th>\n",
       "      <td>2112176</td>\n",
       "      <td>0</td>\n",
       "    </tr>\n",
       "    <tr>\n",
       "      <th>2112177</th>\n",
       "      <td>2112177</td>\n",
       "      <td>0</td>\n",
       "    </tr>\n",
       "    <tr>\n",
       "      <th>2112178</th>\n",
       "      <td>2112178</td>\n",
       "      <td>0</td>\n",
       "    </tr>\n",
       "    <tr>\n",
       "      <th>2112179</th>\n",
       "      <td>2112179</td>\n",
       "      <td>0</td>\n",
       "    </tr>\n",
       "    <tr>\n",
       "      <th>2112180</th>\n",
       "      <td>2112180</td>\n",
       "      <td>0</td>\n",
       "    </tr>\n",
       "  </tbody>\n",
       "</table>\n",
       "</div>"
      ],
      "text/plain": [
       "           ts_id  action\n",
       "2112176  2112176       0\n",
       "2112177  2112177       0\n",
       "2112178  2112178       0\n",
       "2112179  2112179       0\n",
       "2112180  2112180       0"
      ]
     },
     "execution_count": 29,
     "metadata": {},
     "output_type": "execute_result"
    }
   ],
   "source": [
    "submission_valid.head()"
   ]
  },
  {
   "cell_type": "code",
   "execution_count": 31,
   "metadata": {
    "hidden": true
   },
   "outputs": [],
   "source": [
    "# Save submission file\n",
    "submission_valid.to_csv(\"../datasets/submission-files/submission_valid_last_50_days.csv\", index=False)"
   ]
  }
 ],
 "metadata": {
  "kernelspec": {
   "display_name": "Python 3",
   "language": "python",
   "name": "python3"
  },
  "language_info": {
   "codemirror_mode": {
    "name": "ipython",
    "version": 3
   },
   "file_extension": ".py",
   "mimetype": "text/x-python",
   "name": "python",
   "nbconvert_exporter": "python",
   "pygments_lexer": "ipython3",
   "version": "3.7.6"
  },
  "toc": {
   "base_numbering": 1,
   "nav_menu": {},
   "number_sections": true,
   "sideBar": true,
   "skip_h1_title": false,
   "title_cell": "Table of Contents",
   "title_sidebar": "Contents",
   "toc_cell": false,
   "toc_position": {
    "height": "calc(100% - 180px)",
    "left": "10px",
    "top": "150px",
    "width": "384px"
   },
   "toc_section_display": true,
   "toc_window_display": true
  }
 },
 "nbformat": 4,
 "nbformat_minor": 4
}
