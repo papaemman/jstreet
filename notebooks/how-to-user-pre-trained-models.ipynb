{
 "cells": [
  {
   "cell_type": "markdown",
   "metadata": {
    "_cell_guid": "79c7e3d0-c299-4dcb-8224-4455121ee9b0",
    "_uuid": "d629ff2d2480ee46fbb7e2d37f6b5fab8052498a",
    "collapsed": true
   },
   "source": [
    "# How to use pretrained models for prediction"
   ]
  },
  {
   "cell_type": "markdown",
   "metadata": {},
   "source": [
    "## Checks"
   ]
  },
  {
   "cell_type": "code",
   "execution_count": 7,
   "metadata": {},
   "outputs": [
    {
     "name": "stdout",
     "output_type": "stream",
     "text": [
      "Numpy version: 1.18.5\n",
      "Pandas verions: 1.1.4\n",
      "XGBoost version: 1.2.1\n"
     ]
    }
   ],
   "source": [
    "# Load modules\n",
    "import numpy as np\n",
    "import pandas as pd\n",
    "import xgboost as xgb\n",
    "\n",
    "# Test packages\n",
    "print(\"Numpy version:\",np.__version__)\n",
    "print(\"Pandas verions:\", pd.__version__)\n",
    "print(\"XGBoost version:\", xgb.__version__)\n",
    "\n",
    "\n",
    "assert np.__version__ == '1.18.5'\n",
    "assert pd.__version__ == '1.1.4'\n",
    "assert xgb.__version__ == '1.2.1'"
   ]
  },
  {
   "cell_type": "code",
   "execution_count": 8,
   "metadata": {},
   "outputs": [],
   "source": [
    "from tqdm import tqdm\n",
    "import janestreet"
   ]
  },
  {
   "cell_type": "markdown",
   "metadata": {},
   "source": [
    "## Load saved model from file"
   ]
  },
  {
   "cell_type": "code",
   "execution_count": 10,
   "metadata": {},
   "outputs": [
    {
     "data": {
      "text/plain": [
       "XGBClassifier(base_score=0.5, booster='gbtree', colsample_bylevel=1,\n",
       "              colsample_bynode=1, colsample_bytree=0.7, gamma=0, gpu_id=-1,\n",
       "              importance_type='gain', interaction_constraints='',\n",
       "              learning_rate=0.05, max_delta_step=0, max_depth=11,\n",
       "              min_child_weight=1, missing=-999, monotone_constraints='()',\n",
       "              n_estimators=500, n_jobs=10, num_parallel_tree=1,\n",
       "              random_state=2020, reg_alpha=0, reg_lambda=1, scale_pos_weight=1,\n",
       "              subsample=0.9, tree_method='hist', validate_parameters=1,\n",
       "              verbosity=2)"
      ]
     },
     "execution_count": 10,
     "metadata": {},
     "output_type": "execute_result"
    }
   ],
   "source": [
    "import joblib\n",
    "model = joblib.load(\"../models/xgboost_v0.joblib.dat\")\n",
    "model"
   ]
  },
  {
   "cell_type": "code",
   "execution_count": 27,
   "metadata": {},
   "outputs": [],
   "source": [
    "# Define required parameters\n",
    "NAN_VALUE = -999\n",
    "FEATURES = [\"feature_\"+str(i) for i in range(0,129+1)]"
   ]
  },
  {
   "cell_type": "markdown",
   "metadata": {},
   "source": [
    "## Submit using time-series API (from janestreet module)"
   ]
  },
  {
   "cell_type": "code",
   "execution_count": 13,
   "metadata": {},
   "outputs": [],
   "source": [
    "env = janestreet.make_env()\n",
    "iter_test = env.iter_test()"
   ]
  },
  {
   "cell_type": "code",
   "execution_count": 53,
   "metadata": {},
   "outputs": [
    {
     "name": "stderr",
     "output_type": "stream",
     "text": [
      "15219it [03:01, 84.08it/s] \n"
     ]
    }
   ],
   "source": [
    "for (test_df, sample_prediction_df) in tqdm(iter_test):\n",
    "\n",
    "    if test_df[\"weight\"].item() >0:\n",
    "\n",
    "        test_df.fillna(NAN_VALUE, inplace=True)\n",
    "        preds = model.predict_proba(test_df[FEATURES])\n",
    "        action = 1 if preds[0,1]>0.53 else 0        \n",
    "    \n",
    "    else:\n",
    "        action = 0    \n",
    "        \n",
    "    assert type(action)==int\n",
    "    assert action in [0,1]\n",
    "    \n",
    "    sample_prediction_df.action = action\n",
    "    env.predict(sample_prediction_df)"
   ]
  },
  {
   "cell_type": "code",
   "execution_count": 54,
   "metadata": {},
   "outputs": [
    {
     "data": {
      "text/plain": [
       "(23554, 6884)"
      ]
     },
     "execution_count": 54,
     "metadata": {},
     "output_type": "execute_result"
    }
   ],
   "source": [
    "nb_of_predictions, nb_of_passes"
   ]
  },
  {
   "cell_type": "markdown",
   "metadata": {},
   "source": [
    "## Sanity checks and Helpers"
   ]
  },
  {
   "cell_type": "code",
   "execution_count": 28,
   "metadata": {},
   "outputs": [
    {
     "data": {
      "text/html": [
       "<div>\n",
       "<style scoped>\n",
       "    .dataframe tbody tr th:only-of-type {\n",
       "        vertical-align: middle;\n",
       "    }\n",
       "\n",
       "    .dataframe tbody tr th {\n",
       "        vertical-align: top;\n",
       "    }\n",
       "\n",
       "    .dataframe thead th {\n",
       "        text-align: right;\n",
       "    }\n",
       "</style>\n",
       "<table border=\"1\" class=\"dataframe\">\n",
       "  <thead>\n",
       "    <tr style=\"text-align: right;\">\n",
       "      <th></th>\n",
       "      <th>date</th>\n",
       "      <th>weight</th>\n",
       "      <th>feature_0</th>\n",
       "      <th>feature_1</th>\n",
       "      <th>feature_2</th>\n",
       "      <th>feature_3</th>\n",
       "      <th>feature_4</th>\n",
       "      <th>feature_5</th>\n",
       "      <th>feature_6</th>\n",
       "      <th>feature_7</th>\n",
       "      <th>...</th>\n",
       "      <th>feature_121</th>\n",
       "      <th>feature_122</th>\n",
       "      <th>feature_123</th>\n",
       "      <th>feature_124</th>\n",
       "      <th>feature_125</th>\n",
       "      <th>feature_126</th>\n",
       "      <th>feature_127</th>\n",
       "      <th>feature_128</th>\n",
       "      <th>feature_129</th>\n",
       "      <th>ts_id</th>\n",
       "    </tr>\n",
       "  </thead>\n",
       "  <tbody>\n",
       "    <tr>\n",
       "      <th>0</th>\n",
       "      <td>0</td>\n",
       "      <td>0.000000</td>\n",
       "      <td>1</td>\n",
       "      <td>-1.872746</td>\n",
       "      <td>-2.191242</td>\n",
       "      <td>-0.474163</td>\n",
       "      <td>-0.323046</td>\n",
       "      <td>0.014688</td>\n",
       "      <td>-0.002484</td>\n",
       "      <td>NaN</td>\n",
       "      <td>...</td>\n",
       "      <td>NaN</td>\n",
       "      <td>1.168391</td>\n",
       "      <td>8.313583</td>\n",
       "      <td>1.782433</td>\n",
       "      <td>14.018213</td>\n",
       "      <td>2.653056</td>\n",
       "      <td>12.600292</td>\n",
       "      <td>2.301488</td>\n",
       "      <td>11.445807</td>\n",
       "      <td>0</td>\n",
       "    </tr>\n",
       "    <tr>\n",
       "      <th>1</th>\n",
       "      <td>0</td>\n",
       "      <td>16.673515</td>\n",
       "      <td>-1</td>\n",
       "      <td>-1.349537</td>\n",
       "      <td>-1.704709</td>\n",
       "      <td>0.068058</td>\n",
       "      <td>0.028432</td>\n",
       "      <td>0.193794</td>\n",
       "      <td>0.138212</td>\n",
       "      <td>NaN</td>\n",
       "      <td>...</td>\n",
       "      <td>NaN</td>\n",
       "      <td>-1.178850</td>\n",
       "      <td>1.777472</td>\n",
       "      <td>-0.915458</td>\n",
       "      <td>2.831612</td>\n",
       "      <td>-1.417010</td>\n",
       "      <td>2.297459</td>\n",
       "      <td>-1.304614</td>\n",
       "      <td>1.898684</td>\n",
       "      <td>1</td>\n",
       "    </tr>\n",
       "    <tr>\n",
       "      <th>2</th>\n",
       "      <td>0</td>\n",
       "      <td>0.000000</td>\n",
       "      <td>-1</td>\n",
       "      <td>0.812780</td>\n",
       "      <td>-0.256156</td>\n",
       "      <td>0.806463</td>\n",
       "      <td>0.400221</td>\n",
       "      <td>-0.614188</td>\n",
       "      <td>-0.354800</td>\n",
       "      <td>NaN</td>\n",
       "      <td>...</td>\n",
       "      <td>NaN</td>\n",
       "      <td>6.115747</td>\n",
       "      <td>9.667908</td>\n",
       "      <td>5.542871</td>\n",
       "      <td>11.671595</td>\n",
       "      <td>7.281757</td>\n",
       "      <td>10.060014</td>\n",
       "      <td>6.638248</td>\n",
       "      <td>9.427299</td>\n",
       "      <td>2</td>\n",
       "    </tr>\n",
       "    <tr>\n",
       "      <th>3</th>\n",
       "      <td>0</td>\n",
       "      <td>0.000000</td>\n",
       "      <td>-1</td>\n",
       "      <td>1.174378</td>\n",
       "      <td>0.344640</td>\n",
       "      <td>0.066872</td>\n",
       "      <td>0.009357</td>\n",
       "      <td>-1.006373</td>\n",
       "      <td>-0.676458</td>\n",
       "      <td>NaN</td>\n",
       "      <td>...</td>\n",
       "      <td>NaN</td>\n",
       "      <td>2.838853</td>\n",
       "      <td>0.499251</td>\n",
       "      <td>3.033732</td>\n",
       "      <td>1.513488</td>\n",
       "      <td>4.397532</td>\n",
       "      <td>1.266037</td>\n",
       "      <td>3.856384</td>\n",
       "      <td>1.013469</td>\n",
       "      <td>3</td>\n",
       "    </tr>\n",
       "    <tr>\n",
       "      <th>4</th>\n",
       "      <td>0</td>\n",
       "      <td>0.138531</td>\n",
       "      <td>1</td>\n",
       "      <td>-3.172026</td>\n",
       "      <td>-3.093182</td>\n",
       "      <td>-0.161518</td>\n",
       "      <td>-0.128149</td>\n",
       "      <td>-0.195006</td>\n",
       "      <td>-0.143780</td>\n",
       "      <td>NaN</td>\n",
       "      <td>...</td>\n",
       "      <td>NaN</td>\n",
       "      <td>0.344850</td>\n",
       "      <td>4.101145</td>\n",
       "      <td>0.614252</td>\n",
       "      <td>6.623456</td>\n",
       "      <td>0.800129</td>\n",
       "      <td>5.233243</td>\n",
       "      <td>0.362636</td>\n",
       "      <td>3.926633</td>\n",
       "      <td>4</td>\n",
       "    </tr>\n",
       "  </tbody>\n",
       "</table>\n",
       "<p>5 rows × 133 columns</p>\n",
       "</div>"
      ],
      "text/plain": [
       "   date     weight  feature_0  feature_1  feature_2  feature_3  feature_4  \\\n",
       "0     0   0.000000          1  -1.872746  -2.191242  -0.474163  -0.323046   \n",
       "1     0  16.673515         -1  -1.349537  -1.704709   0.068058   0.028432   \n",
       "2     0   0.000000         -1   0.812780  -0.256156   0.806463   0.400221   \n",
       "3     0   0.000000         -1   1.174378   0.344640   0.066872   0.009357   \n",
       "4     0   0.138531          1  -3.172026  -3.093182  -0.161518  -0.128149   \n",
       "\n",
       "   feature_5  feature_6  feature_7  ...  feature_121  feature_122  \\\n",
       "0   0.014688  -0.002484        NaN  ...          NaN     1.168391   \n",
       "1   0.193794   0.138212        NaN  ...          NaN    -1.178850   \n",
       "2  -0.614188  -0.354800        NaN  ...          NaN     6.115747   \n",
       "3  -1.006373  -0.676458        NaN  ...          NaN     2.838853   \n",
       "4  -0.195006  -0.143780        NaN  ...          NaN     0.344850   \n",
       "\n",
       "   feature_123  feature_124  feature_125  feature_126  feature_127  \\\n",
       "0     8.313583     1.782433    14.018213     2.653056    12.600292   \n",
       "1     1.777472    -0.915458     2.831612    -1.417010     2.297459   \n",
       "2     9.667908     5.542871    11.671595     7.281757    10.060014   \n",
       "3     0.499251     3.033732     1.513488     4.397532     1.266037   \n",
       "4     4.101145     0.614252     6.623456     0.800129     5.233243   \n",
       "\n",
       "   feature_128  feature_129  ts_id  \n",
       "0     2.301488    11.445807      0  \n",
       "1    -1.304614     1.898684      1  \n",
       "2     6.638248     9.427299      2  \n",
       "3     3.856384     1.013469      3  \n",
       "4     0.362636     3.926633      4  \n",
       "\n",
       "[5 rows x 133 columns]"
      ]
     },
     "execution_count": 28,
     "metadata": {},
     "output_type": "execute_result"
    }
   ],
   "source": [
    "## Helpers\n",
    "test = pd.read_csv(\"../input/jane-street-market-prediction/example_test.csv\")\n",
    "test.head()"
   ]
  },
  {
   "cell_type": "code",
   "execution_count": 29,
   "metadata": {},
   "outputs": [
    {
     "data": {
      "text/html": [
       "<div>\n",
       "<style scoped>\n",
       "    .dataframe tbody tr th:only-of-type {\n",
       "        vertical-align: middle;\n",
       "    }\n",
       "\n",
       "    .dataframe tbody tr th {\n",
       "        vertical-align: top;\n",
       "    }\n",
       "\n",
       "    .dataframe thead th {\n",
       "        text-align: right;\n",
       "    }\n",
       "</style>\n",
       "<table border=\"1\" class=\"dataframe\">\n",
       "  <thead>\n",
       "    <tr style=\"text-align: right;\">\n",
       "      <th></th>\n",
       "      <th>date</th>\n",
       "      <th>weight</th>\n",
       "      <th>feature_0</th>\n",
       "      <th>feature_1</th>\n",
       "      <th>feature_2</th>\n",
       "      <th>feature_3</th>\n",
       "      <th>feature_4</th>\n",
       "      <th>feature_5</th>\n",
       "      <th>feature_6</th>\n",
       "      <th>feature_7</th>\n",
       "      <th>...</th>\n",
       "      <th>feature_120</th>\n",
       "      <th>feature_121</th>\n",
       "      <th>feature_122</th>\n",
       "      <th>feature_123</th>\n",
       "      <th>feature_124</th>\n",
       "      <th>feature_125</th>\n",
       "      <th>feature_126</th>\n",
       "      <th>feature_127</th>\n",
       "      <th>feature_128</th>\n",
       "      <th>feature_129</th>\n",
       "    </tr>\n",
       "  </thead>\n",
       "  <tbody>\n",
       "    <tr>\n",
       "      <th>150</th>\n",
       "      <td>0</td>\n",
       "      <td>0.414218</td>\n",
       "      <td>1</td>\n",
       "      <td>-0.223407</td>\n",
       "      <td>-1.835836</td>\n",
       "      <td>-2.203604</td>\n",
       "      <td>-0.844399</td>\n",
       "      <td>-2.142812</td>\n",
       "      <td>-0.827847</td>\n",
       "      <td>NaN</td>\n",
       "      <td>...</td>\n",
       "      <td>2.482895</td>\n",
       "      <td>-1.923482</td>\n",
       "      <td>1.196138</td>\n",
       "      <td>-2.499977</td>\n",
       "      <td>2.039261</td>\n",
       "      <td>-2.410264</td>\n",
       "      <td>2.54504</td>\n",
       "      <td>-1.955018</td>\n",
       "      <td>1.936977</td>\n",
       "      <td>-1.933912</td>\n",
       "    </tr>\n",
       "  </tbody>\n",
       "</table>\n",
       "<p>1 rows × 132 columns</p>\n",
       "</div>"
      ],
      "text/plain": [
       "     date    weight  feature_0  feature_1  feature_2  feature_3  feature_4  \\\n",
       "150     0  0.414218          1  -0.223407  -1.835836  -2.203604  -0.844399   \n",
       "\n",
       "     feature_5  feature_6  feature_7  ...  feature_120  feature_121  \\\n",
       "150  -2.142812  -0.827847        NaN  ...     2.482895    -1.923482   \n",
       "\n",
       "     feature_122  feature_123  feature_124  feature_125  feature_126  \\\n",
       "150     1.196138    -2.499977     2.039261    -2.410264      2.54504   \n",
       "\n",
       "     feature_127  feature_128  feature_129  \n",
       "150    -1.955018     1.936977    -1.933912  \n",
       "\n",
       "[1 rows x 132 columns]"
      ]
     },
     "execution_count": 29,
     "metadata": {},
     "output_type": "execute_result"
    }
   ],
   "source": [
    "# Create an example instance of test_df (janestreet API)\n",
    "test_df_temp = test.iloc[[150]].copy()\n",
    "test_df_temp.drop(\"ts_id\", axis=1, inplace = True)\n",
    "test_df_temp"
   ]
  },
  {
   "cell_type": "markdown",
   "metadata": {},
   "source": [
    "### Check if test_df_temp has weight==0"
   ]
  },
  {
   "cell_type": "code",
   "execution_count": 44,
   "metadata": {},
   "outputs": [
    {
     "data": {
      "text/plain": [
       "True"
      ]
     },
     "execution_count": 44,
     "metadata": {},
     "output_type": "execute_result"
    }
   ],
   "source": [
    "test_df_temp[\"weight\"].item() >0 "
   ]
  },
  {
   "cell_type": "markdown",
   "metadata": {},
   "source": [
    "### Deal with NAs"
   ]
  },
  {
   "cell_type": "code",
   "execution_count": 34,
   "metadata": {},
   "outputs": [
    {
     "name": "stdout",
     "output_type": "stream",
     "text": [
      "Number of NAs before: 14\n",
      "Number of NAs after: 0\n"
     ]
    }
   ],
   "source": [
    "print(\"Number of NAs before:\", test_df_temp.isna().sum().sum())\n",
    "\n",
    "test_df_temp.fillna(NAN_VALUE, inplace=True)\n",
    "print(\"Number of NAs after:\", test_df_temp.isna().sum().sum())"
   ]
  },
  {
   "cell_type": "code",
   "execution_count": 38,
   "metadata": {},
   "outputs": [
    {
     "name": "stdout",
     "output_type": "stream",
     "text": [
      "[[0.40316224 0.59683776]]\n"
     ]
    }
   ],
   "source": [
    "# Get predicion basd on trained ML model\n",
    "preds = model.predict_proba(test_df_temp[FEATURES])\n",
    "print(\"Predictions are:\", preds)\n"
   ]
  },
  {
   "cell_type": "code",
   "execution_count": 39,
   "metadata": {},
   "outputs": [
    {
     "name": "stdout",
     "output_type": "stream",
     "text": [
      "1\n"
     ]
    }
   ],
   "source": [
    "# Generate action based on prediction\n",
    "action = 1 if preds[0,1]>0.5 else 0\n",
    "\n",
    "assert type(action)==int\n",
    "assert action in [0,1]\n",
    "\n",
    "print(action)"
   ]
  },
  {
   "cell_type": "code",
   "execution_count": null,
   "metadata": {},
   "outputs": [],
   "source": [
    "## Collect all the code here and test it for all dataset!\n",
    "\n",
    "# Count the total number of predictions and passes\n",
    "nb_of_predictions = 0\n",
    "nb_of_passes = 0\n",
    "\n",
    "for i in tqdm(range(len(test))):\n",
    "    \n",
    "    test_df_temp = test.iloc[[i]].copy()\n",
    "    test_df_temp.drop(\"ts_id\", axis=1, inplace = True)\n",
    "    test_df_temp\n",
    "\n",
    "\n",
    "    if test_df_temp[\"weight\"].item() >0:\n",
    "\n",
    "        test_df_temp.fillna(NAN_VALUE, inplace=True)\n",
    "        preds = model.predict_proba(test_df_temp[FEATURES])\n",
    "        action = 1 if preds[0,1]>0.5 else 0\n",
    "\n",
    "        nb_of_predictions += 1\n",
    "        \n",
    "    else:\n",
    "        action = 0\n",
    "        \n",
    "        nb_of_passes += 1\n",
    "        \n",
    "        \n",
    "    assert type(action)==int\n",
    "    assert action in [0,1]\n",
    "    \n",
    "    "
   ]
  },
  {
   "cell_type": "code",
   "execution_count": 52,
   "metadata": {},
   "outputs": [
    {
     "name": "stdout",
     "output_type": "stream",
     "text": [
      "False    11777\n",
      "True      3442\n",
      "Name: weight, dtype: int64\n"
     ]
    },
    {
     "data": {
      "text/plain": [
       "(11777, 3442)"
      ]
     },
     "execution_count": 52,
     "metadata": {},
     "output_type": "execute_result"
    }
   ],
   "source": [
    "# Test results\n",
    "print((test[\"weight\"]==0).value_counts())\n",
    "nb_of_predictions, nb_of_passes"
   ]
  }
 ],
 "metadata": {
  "kernelspec": {
   "display_name": "Python 3",
   "language": "python",
   "name": "python3"
  },
  "language_info": {
   "codemirror_mode": {
    "name": "ipython",
    "version": 3
   },
   "file_extension": ".py",
   "mimetype": "text/x-python",
   "name": "python",
   "nbconvert_exporter": "python",
   "pygments_lexer": "ipython3",
   "version": "3.7.6"
  },
  "toc": {
   "base_numbering": 1,
   "nav_menu": {},
   "number_sections": true,
   "sideBar": true,
   "skip_h1_title": false,
   "title_cell": "Table of Contents",
   "title_sidebar": "Contents",
   "toc_cell": false,
   "toc_position": {},
   "toc_section_display": true,
   "toc_window_display": false
  }
 },
 "nbformat": 4,
 "nbformat_minor": 4
}
