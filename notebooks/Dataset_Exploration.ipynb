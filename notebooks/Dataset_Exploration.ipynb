{
 "cells": [
  {
   "cell_type": "markdown",
   "metadata": {},
   "source": [
    "# Dataset Exploration"
   ]
  },
  {
   "cell_type": "code",
   "execution_count": 1,
   "metadata": {},
   "outputs": [],
   "source": [
    "import numpy as np\n",
    "import pandas as pd\n",
    "\n",
    "import matplotlib.pyplot as plt"
   ]
  },
  {
   "cell_type": "markdown",
   "metadata": {},
   "source": [
    "**Cleaning dataset steps**\n"
   ]
  },
  {
   "cell_type": "markdown",
   "metadata": {},
   "source": [
    "## Available Datasets"
   ]
  },
  {
   "cell_type": "code",
   "execution_count": 1,
   "metadata": {},
   "outputs": [
    {
     "name": "stdout",
     "output_type": "stream",
     "text": [
      "example_sample_submission.csv\n",
      "example_test.csv\n",
      "features.csv\n",
      "janestreet\n",
      "train.csv\n",
      "2390492 train.csv\n"
     ]
    }
   ],
   "source": [
    "%%bash\n",
    "\n",
    "cd ../input/\n",
    "ls\n",
    "\n",
    "wc -l train.csv # 2.390.492 rows"
   ]
  },
  {
   "cell_type": "code",
   "execution_count": 5,
   "metadata": {},
   "outputs": [
    {
     "name": "stdout",
     "output_type": "stream",
     "text": [
      "total 5942M\n",
      "drwxr-xr-x 3 1118 1004    1M Dec  4 19:53 .\n",
      "drwxr-xr-x 9 1118 1004    1M Dec  4 22:26 ..\n",
      "-rw-r--r-- 1 1118 1004    1M Nov 17 15:06 example_sample_submission.csv\n",
      "-rw-r--r-- 1 1118 1004   37M Nov 17 15:06 example_test.csv\n",
      "-rw-r--r-- 1 1118 1004    1M Nov 17 15:06 features.csv\n",
      "drwxr-xr-x 3 1118 1004    1M Dec  3 18:23 janestreet\n",
      "-rw-r--r-- 1 1118 1004 5906M Nov 17 15:07 train.csv\n"
     ]
    }
   ],
   "source": [
    "%%bash\n",
    "\n",
    "cd ../input/\n",
    "ls -la --block-size=M"
   ]
  },
  {
   "cell_type": "markdown",
   "metadata": {},
   "source": [
    "## train.csv"
   ]
  },
  {
   "cell_type": "code",
   "execution_count": 7,
   "metadata": {},
   "outputs": [],
   "source": [
    "train_df = pd.read_csv(\"../input/train.csv\", nrows=10000)"
   ]
  },
  {
   "cell_type": "code",
   "execution_count": 8,
   "metadata": {},
   "outputs": [
    {
     "data": {
      "text/html": [
       "<div>\n",
       "<style scoped>\n",
       "    .dataframe tbody tr th:only-of-type {\n",
       "        vertical-align: middle;\n",
       "    }\n",
       "\n",
       "    .dataframe tbody tr th {\n",
       "        vertical-align: top;\n",
       "    }\n",
       "\n",
       "    .dataframe thead th {\n",
       "        text-align: right;\n",
       "    }\n",
       "</style>\n",
       "<table border=\"1\" class=\"dataframe\">\n",
       "  <thead>\n",
       "    <tr style=\"text-align: right;\">\n",
       "      <th></th>\n",
       "      <th>date</th>\n",
       "      <th>weight</th>\n",
       "      <th>resp_1</th>\n",
       "      <th>resp_2</th>\n",
       "      <th>resp_3</th>\n",
       "      <th>resp_4</th>\n",
       "      <th>resp</th>\n",
       "      <th>feature_0</th>\n",
       "      <th>feature_1</th>\n",
       "      <th>feature_2</th>\n",
       "      <th>...</th>\n",
       "      <th>feature_121</th>\n",
       "      <th>feature_122</th>\n",
       "      <th>feature_123</th>\n",
       "      <th>feature_124</th>\n",
       "      <th>feature_125</th>\n",
       "      <th>feature_126</th>\n",
       "      <th>feature_127</th>\n",
       "      <th>feature_128</th>\n",
       "      <th>feature_129</th>\n",
       "      <th>ts_id</th>\n",
       "    </tr>\n",
       "  </thead>\n",
       "  <tbody>\n",
       "    <tr>\n",
       "      <th>0</th>\n",
       "      <td>0</td>\n",
       "      <td>0.000000</td>\n",
       "      <td>0.009916</td>\n",
       "      <td>0.014079</td>\n",
       "      <td>0.008773</td>\n",
       "      <td>0.001390</td>\n",
       "      <td>0.006270</td>\n",
       "      <td>1</td>\n",
       "      <td>-1.872746</td>\n",
       "      <td>-2.191242</td>\n",
       "      <td>...</td>\n",
       "      <td>NaN</td>\n",
       "      <td>1.168391</td>\n",
       "      <td>8.313583</td>\n",
       "      <td>1.782433</td>\n",
       "      <td>14.018213</td>\n",
       "      <td>2.653056</td>\n",
       "      <td>12.600292</td>\n",
       "      <td>2.301488</td>\n",
       "      <td>11.445807</td>\n",
       "      <td>0</td>\n",
       "    </tr>\n",
       "    <tr>\n",
       "      <th>1</th>\n",
       "      <td>0</td>\n",
       "      <td>16.673515</td>\n",
       "      <td>-0.002828</td>\n",
       "      <td>-0.003226</td>\n",
       "      <td>-0.007319</td>\n",
       "      <td>-0.011114</td>\n",
       "      <td>-0.009792</td>\n",
       "      <td>-1</td>\n",
       "      <td>-1.349537</td>\n",
       "      <td>-1.704709</td>\n",
       "      <td>...</td>\n",
       "      <td>NaN</td>\n",
       "      <td>-1.178850</td>\n",
       "      <td>1.777472</td>\n",
       "      <td>-0.915458</td>\n",
       "      <td>2.831612</td>\n",
       "      <td>-1.417010</td>\n",
       "      <td>2.297459</td>\n",
       "      <td>-1.304614</td>\n",
       "      <td>1.898684</td>\n",
       "      <td>1</td>\n",
       "    </tr>\n",
       "    <tr>\n",
       "      <th>2</th>\n",
       "      <td>0</td>\n",
       "      <td>0.000000</td>\n",
       "      <td>0.025134</td>\n",
       "      <td>0.027607</td>\n",
       "      <td>0.033406</td>\n",
       "      <td>0.034380</td>\n",
       "      <td>0.023970</td>\n",
       "      <td>-1</td>\n",
       "      <td>0.812780</td>\n",
       "      <td>-0.256156</td>\n",
       "      <td>...</td>\n",
       "      <td>NaN</td>\n",
       "      <td>6.115747</td>\n",
       "      <td>9.667908</td>\n",
       "      <td>5.542871</td>\n",
       "      <td>11.671595</td>\n",
       "      <td>7.281757</td>\n",
       "      <td>10.060014</td>\n",
       "      <td>6.638248</td>\n",
       "      <td>9.427299</td>\n",
       "      <td>2</td>\n",
       "    </tr>\n",
       "    <tr>\n",
       "      <th>3</th>\n",
       "      <td>0</td>\n",
       "      <td>0.000000</td>\n",
       "      <td>-0.004730</td>\n",
       "      <td>-0.003273</td>\n",
       "      <td>-0.000461</td>\n",
       "      <td>-0.000476</td>\n",
       "      <td>-0.003200</td>\n",
       "      <td>-1</td>\n",
       "      <td>1.174378</td>\n",
       "      <td>0.344640</td>\n",
       "      <td>...</td>\n",
       "      <td>NaN</td>\n",
       "      <td>2.838853</td>\n",
       "      <td>0.499251</td>\n",
       "      <td>3.033732</td>\n",
       "      <td>1.513488</td>\n",
       "      <td>4.397532</td>\n",
       "      <td>1.266037</td>\n",
       "      <td>3.856384</td>\n",
       "      <td>1.013469</td>\n",
       "      <td>3</td>\n",
       "    </tr>\n",
       "    <tr>\n",
       "      <th>4</th>\n",
       "      <td>0</td>\n",
       "      <td>0.138531</td>\n",
       "      <td>0.001252</td>\n",
       "      <td>0.002165</td>\n",
       "      <td>-0.001215</td>\n",
       "      <td>-0.006219</td>\n",
       "      <td>-0.002604</td>\n",
       "      <td>1</td>\n",
       "      <td>-3.172026</td>\n",
       "      <td>-3.093182</td>\n",
       "      <td>...</td>\n",
       "      <td>NaN</td>\n",
       "      <td>0.344850</td>\n",
       "      <td>4.101145</td>\n",
       "      <td>0.614252</td>\n",
       "      <td>6.623456</td>\n",
       "      <td>0.800129</td>\n",
       "      <td>5.233243</td>\n",
       "      <td>0.362636</td>\n",
       "      <td>3.926633</td>\n",
       "      <td>4</td>\n",
       "    </tr>\n",
       "    <tr>\n",
       "      <th>...</th>\n",
       "      <td>...</td>\n",
       "      <td>...</td>\n",
       "      <td>...</td>\n",
       "      <td>...</td>\n",
       "      <td>...</td>\n",
       "      <td>...</td>\n",
       "      <td>...</td>\n",
       "      <td>...</td>\n",
       "      <td>...</td>\n",
       "      <td>...</td>\n",
       "      <td>...</td>\n",
       "      <td>...</td>\n",
       "      <td>...</td>\n",
       "      <td>...</td>\n",
       "      <td>...</td>\n",
       "      <td>...</td>\n",
       "      <td>...</td>\n",
       "      <td>...</td>\n",
       "      <td>...</td>\n",
       "      <td>...</td>\n",
       "      <td>...</td>\n",
       "    </tr>\n",
       "    <tr>\n",
       "      <th>9995</th>\n",
       "      <td>1</td>\n",
       "      <td>0.420165</td>\n",
       "      <td>0.001847</td>\n",
       "      <td>0.016171</td>\n",
       "      <td>0.039813</td>\n",
       "      <td>0.061120</td>\n",
       "      <td>0.051909</td>\n",
       "      <td>-1</td>\n",
       "      <td>-0.803361</td>\n",
       "      <td>-1.687988</td>\n",
       "      <td>...</td>\n",
       "      <td>-2.735500</td>\n",
       "      <td>-0.603269</td>\n",
       "      <td>-1.588024</td>\n",
       "      <td>-0.614948</td>\n",
       "      <td>-2.783072</td>\n",
       "      <td>-0.882524</td>\n",
       "      <td>-1.890361</td>\n",
       "      <td>-0.789504</td>\n",
       "      <td>-1.662447</td>\n",
       "      <td>9995</td>\n",
       "    </tr>\n",
       "    <tr>\n",
       "      <th>9996</th>\n",
       "      <td>1</td>\n",
       "      <td>2.852259</td>\n",
       "      <td>-0.000712</td>\n",
       "      <td>-0.004864</td>\n",
       "      <td>-0.009795</td>\n",
       "      <td>-0.018601</td>\n",
       "      <td>-0.019537</td>\n",
       "      <td>1</td>\n",
       "      <td>-0.702446</td>\n",
       "      <td>-1.161989</td>\n",
       "      <td>...</td>\n",
       "      <td>-0.861067</td>\n",
       "      <td>-0.883083</td>\n",
       "      <td>-0.165111</td>\n",
       "      <td>-0.779975</td>\n",
       "      <td>-0.422061</td>\n",
       "      <td>-0.968161</td>\n",
       "      <td>0.167733</td>\n",
       "      <td>-0.920668</td>\n",
       "      <td>-0.010404</td>\n",
       "      <td>9996</td>\n",
       "    </tr>\n",
       "    <tr>\n",
       "      <th>9997</th>\n",
       "      <td>1</td>\n",
       "      <td>1.389255</td>\n",
       "      <td>0.002383</td>\n",
       "      <td>0.004190</td>\n",
       "      <td>0.002356</td>\n",
       "      <td>0.006833</td>\n",
       "      <td>0.009608</td>\n",
       "      <td>1</td>\n",
       "      <td>0.130875</td>\n",
       "      <td>-0.608811</td>\n",
       "      <td>...</td>\n",
       "      <td>0.276647</td>\n",
       "      <td>-0.001041</td>\n",
       "      <td>0.269809</td>\n",
       "      <td>-0.036464</td>\n",
       "      <td>0.415885</td>\n",
       "      <td>0.056424</td>\n",
       "      <td>0.422491</td>\n",
       "      <td>-0.036431</td>\n",
       "      <td>0.176114</td>\n",
       "      <td>9997</td>\n",
       "    </tr>\n",
       "    <tr>\n",
       "      <th>9998</th>\n",
       "      <td>1</td>\n",
       "      <td>0.085839</td>\n",
       "      <td>-0.003532</td>\n",
       "      <td>-0.037491</td>\n",
       "      <td>-0.053815</td>\n",
       "      <td>-0.052844</td>\n",
       "      <td>-0.065972</td>\n",
       "      <td>1</td>\n",
       "      <td>-3.172026</td>\n",
       "      <td>-3.093182</td>\n",
       "      <td>...</td>\n",
       "      <td>0.027756</td>\n",
       "      <td>0.940655</td>\n",
       "      <td>-0.102939</td>\n",
       "      <td>0.714865</td>\n",
       "      <td>-0.302707</td>\n",
       "      <td>1.022478</td>\n",
       "      <td>-0.315486</td>\n",
       "      <td>0.806448</td>\n",
       "      <td>-0.441524</td>\n",
       "      <td>9998</td>\n",
       "    </tr>\n",
       "    <tr>\n",
       "      <th>9999</th>\n",
       "      <td>1</td>\n",
       "      <td>1.599537</td>\n",
       "      <td>-0.001722</td>\n",
       "      <td>-0.001411</td>\n",
       "      <td>-0.000702</td>\n",
       "      <td>0.000706</td>\n",
       "      <td>0.000158</td>\n",
       "      <td>1</td>\n",
       "      <td>1.591598</td>\n",
       "      <td>0.432459</td>\n",
       "      <td>...</td>\n",
       "      <td>-0.193174</td>\n",
       "      <td>0.432659</td>\n",
       "      <td>-0.932680</td>\n",
       "      <td>0.650547</td>\n",
       "      <td>-0.386958</td>\n",
       "      <td>0.491460</td>\n",
       "      <td>-1.032012</td>\n",
       "      <td>0.421468</td>\n",
       "      <td>-0.970129</td>\n",
       "      <td>9999</td>\n",
       "    </tr>\n",
       "  </tbody>\n",
       "</table>\n",
       "<p>10000 rows × 138 columns</p>\n",
       "</div>"
      ],
      "text/plain": [
       "      date     weight    resp_1    resp_2    resp_3    resp_4      resp  \\\n",
       "0        0   0.000000  0.009916  0.014079  0.008773  0.001390  0.006270   \n",
       "1        0  16.673515 -0.002828 -0.003226 -0.007319 -0.011114 -0.009792   \n",
       "2        0   0.000000  0.025134  0.027607  0.033406  0.034380  0.023970   \n",
       "3        0   0.000000 -0.004730 -0.003273 -0.000461 -0.000476 -0.003200   \n",
       "4        0   0.138531  0.001252  0.002165 -0.001215 -0.006219 -0.002604   \n",
       "...    ...        ...       ...       ...       ...       ...       ...   \n",
       "9995     1   0.420165  0.001847  0.016171  0.039813  0.061120  0.051909   \n",
       "9996     1   2.852259 -0.000712 -0.004864 -0.009795 -0.018601 -0.019537   \n",
       "9997     1   1.389255  0.002383  0.004190  0.002356  0.006833  0.009608   \n",
       "9998     1   0.085839 -0.003532 -0.037491 -0.053815 -0.052844 -0.065972   \n",
       "9999     1   1.599537 -0.001722 -0.001411 -0.000702  0.000706  0.000158   \n",
       "\n",
       "      feature_0  feature_1  feature_2  ...  feature_121  feature_122  \\\n",
       "0             1  -1.872746  -2.191242  ...          NaN     1.168391   \n",
       "1            -1  -1.349537  -1.704709  ...          NaN    -1.178850   \n",
       "2            -1   0.812780  -0.256156  ...          NaN     6.115747   \n",
       "3            -1   1.174378   0.344640  ...          NaN     2.838853   \n",
       "4             1  -3.172026  -3.093182  ...          NaN     0.344850   \n",
       "...         ...        ...        ...  ...          ...          ...   \n",
       "9995         -1  -0.803361  -1.687988  ...    -2.735500    -0.603269   \n",
       "9996          1  -0.702446  -1.161989  ...    -0.861067    -0.883083   \n",
       "9997          1   0.130875  -0.608811  ...     0.276647    -0.001041   \n",
       "9998          1  -3.172026  -3.093182  ...     0.027756     0.940655   \n",
       "9999          1   1.591598   0.432459  ...    -0.193174     0.432659   \n",
       "\n",
       "      feature_123  feature_124  feature_125  feature_126  feature_127  \\\n",
       "0        8.313583     1.782433    14.018213     2.653056    12.600292   \n",
       "1        1.777472    -0.915458     2.831612    -1.417010     2.297459   \n",
       "2        9.667908     5.542871    11.671595     7.281757    10.060014   \n",
       "3        0.499251     3.033732     1.513488     4.397532     1.266037   \n",
       "4        4.101145     0.614252     6.623456     0.800129     5.233243   \n",
       "...           ...          ...          ...          ...          ...   \n",
       "9995    -1.588024    -0.614948    -2.783072    -0.882524    -1.890361   \n",
       "9996    -0.165111    -0.779975    -0.422061    -0.968161     0.167733   \n",
       "9997     0.269809    -0.036464     0.415885     0.056424     0.422491   \n",
       "9998    -0.102939     0.714865    -0.302707     1.022478    -0.315486   \n",
       "9999    -0.932680     0.650547    -0.386958     0.491460    -1.032012   \n",
       "\n",
       "      feature_128  feature_129  ts_id  \n",
       "0        2.301488    11.445807      0  \n",
       "1       -1.304614     1.898684      1  \n",
       "2        6.638248     9.427299      2  \n",
       "3        3.856384     1.013469      3  \n",
       "4        0.362636     3.926633      4  \n",
       "...           ...          ...    ...  \n",
       "9995    -0.789504    -1.662447   9995  \n",
       "9996    -0.920668    -0.010404   9996  \n",
       "9997    -0.036431     0.176114   9997  \n",
       "9998     0.806448    -0.441524   9998  \n",
       "9999     0.421468    -0.970129   9999  \n",
       "\n",
       "[10000 rows x 138 columns]"
      ]
     },
     "execution_count": 8,
     "metadata": {},
     "output_type": "execute_result"
    }
   ],
   "source": [
    "train_df"
   ]
  },
  {
   "cell_type": "code",
   "execution_count": 13,
   "metadata": {},
   "outputs": [
    {
     "data": {
      "text/plain": [
       "float64    135\n",
       "int64        3\n",
       "dtype: int64"
      ]
     },
     "execution_count": 13,
     "metadata": {},
     "output_type": "execute_result"
    }
   ],
   "source": [
    "train_df.dtypes.value_counts()"
   ]
  },
  {
   "cell_type": "code",
   "execution_count": 9,
   "metadata": {},
   "outputs": [
    {
     "data": {
      "text/plain": [
       "Index(['date', 'weight', 'resp_1', 'resp_2', 'resp_3', 'resp_4', 'resp',\n",
       "       'feature_0', 'feature_1', 'feature_2',\n",
       "       ...\n",
       "       'feature_121', 'feature_122', 'feature_123', 'feature_124',\n",
       "       'feature_125', 'feature_126', 'feature_127', 'feature_128',\n",
       "       'feature_129', 'ts_id'],\n",
       "      dtype='object', length=138)"
      ]
     },
     "execution_count": 9,
     "metadata": {},
     "output_type": "execute_result"
    }
   ],
   "source": [
    "train_df.columns"
   ]
  },
  {
   "cell_type": "markdown",
   "metadata": {
    "heading_collapsed": true
   },
   "source": [
    "### ts_id"
   ]
  },
  {
   "cell_type": "code",
   "execution_count": 41,
   "metadata": {
    "hidden": true
   },
   "outputs": [
    {
     "data": {
      "text/plain": [
       "0"
      ]
     },
     "execution_count": 41,
     "metadata": {},
     "output_type": "execute_result"
    }
   ],
   "source": [
    "# Sanity check\n",
    "# ts_id == index\n",
    "sum(train_df[\"ts_id\"] != train_df.index)"
   ]
  },
  {
   "cell_type": "markdown",
   "metadata": {
    "heading_collapsed": true
   },
   "source": [
    "### date"
   ]
  },
  {
   "cell_type": "code",
   "execution_count": 15,
   "metadata": {
    "hidden": true
   },
   "outputs": [
    {
     "data": {
      "text/plain": [
       "0    5587\n",
       "1    4413\n",
       "Name: date, dtype: int64"
      ]
     },
     "execution_count": 15,
     "metadata": {},
     "output_type": "execute_result"
    }
   ],
   "source": [
    "train_df[\"date\"].value_counts()"
   ]
  },
  {
   "cell_type": "code",
   "execution_count": 18,
   "metadata": {
    "hidden": true
   },
   "outputs": [
    {
     "data": {
      "image/png": "[encoded data removed]",
      "text/plain": [
       "<Figure size 432x288 with 1 Axes>"
      ]
     },
     "metadata": {
      "needs_background": "light"
     },
     "output_type": "display_data"
    }
   ],
   "source": [
    "train_df[\"date\"].value_counts().plot.bar();"
   ]
  },
  {
   "cell_type": "markdown",
   "metadata": {
    "heading_collapsed": true
   },
   "source": [
    "### weight"
   ]
  },
  {
   "cell_type": "code",
   "execution_count": 20,
   "metadata": {
    "hidden": true
   },
   "outputs": [
    {
     "data": {
      "text/plain": [
       "count    10000.000000\n",
       "mean         2.227993\n",
       "std          6.512468\n",
       "min          0.000000\n",
       "25%          0.100645\n",
       "50%          0.517418\n",
       "75%          1.781259\n",
       "max        123.894917\n",
       "Name: weight, dtype: float64"
      ]
     },
     "execution_count": 20,
     "metadata": {},
     "output_type": "execute_result"
    }
   ],
   "source": [
    "train_df[\"weight\"].describe()"
   ]
  },
  {
   "cell_type": "code",
   "execution_count": 23,
   "metadata": {
    "hidden": true
   },
   "outputs": [
    {
     "data": {
      "image/png": "[encoded data removed]",
      "text/plain": [
       "<Figure size 432x288 with 1 Axes>"
      ]
     },
     "metadata": {
      "needs_background": "light"
     },
     "output_type": "display_data"
    }
   ],
   "source": [
    "train_df[\"weight\"].plot.kde(title=\"Weight KDE\");"
   ]
  },
  {
   "cell_type": "markdown",
   "metadata": {
    "heading_collapsed": true
   },
   "source": [
    "### Features"
   ]
  },
  {
   "cell_type": "markdown",
   "metadata": {
    "hidden": true
   },
   "source": [
    "**130 numerical Features**: feature_0 - features_129"
   ]
  },
  {
   "cell_type": "code",
   "execution_count": 28,
   "metadata": {
    "hidden": true
   },
   "outputs": [
    {
     "data": {
      "text/plain": [
       "Index(['feature_0', 'feature_1', 'feature_2', 'feature_3', 'feature_4',\n",
       "       'feature_5', 'feature_6', 'feature_7', 'feature_8', 'feature_9',\n",
       "       ...\n",
       "       'feature_120', 'feature_121', 'feature_122', 'feature_123',\n",
       "       'feature_124', 'feature_125', 'feature_126', 'feature_127',\n",
       "       'feature_128', 'feature_129'],\n",
       "      dtype='object', length=130)"
      ]
     },
     "execution_count": 28,
     "metadata": {},
     "output_type": "execute_result"
    }
   ],
   "source": [
    "train_df.filter(like=\"feature\").columns"
   ]
  },
  {
   "cell_type": "code",
   "execution_count": 26,
   "metadata": {
    "hidden": true
   },
   "outputs": [
    {
     "data": {
      "text/html": [
       "<div>\n",
       "<style scoped>\n",
       "    .dataframe tbody tr th:only-of-type {\n",
       "        vertical-align: middle;\n",
       "    }\n",
       "\n",
       "    .dataframe tbody tr th {\n",
       "        vertical-align: top;\n",
       "    }\n",
       "\n",
       "    .dataframe thead th {\n",
       "        text-align: right;\n",
       "    }\n",
       "</style>\n",
       "<table border=\"1\" class=\"dataframe\">\n",
       "  <thead>\n",
       "    <tr style=\"text-align: right;\">\n",
       "      <th></th>\n",
       "      <th>feature_0</th>\n",
       "      <th>feature_1</th>\n",
       "      <th>feature_2</th>\n",
       "      <th>feature_3</th>\n",
       "      <th>feature_4</th>\n",
       "      <th>feature_5</th>\n",
       "      <th>feature_6</th>\n",
       "      <th>feature_7</th>\n",
       "      <th>feature_8</th>\n",
       "      <th>feature_9</th>\n",
       "      <th>...</th>\n",
       "      <th>feature_120</th>\n",
       "      <th>feature_121</th>\n",
       "      <th>feature_122</th>\n",
       "      <th>feature_123</th>\n",
       "      <th>feature_124</th>\n",
       "      <th>feature_125</th>\n",
       "      <th>feature_126</th>\n",
       "      <th>feature_127</th>\n",
       "      <th>feature_128</th>\n",
       "      <th>feature_129</th>\n",
       "    </tr>\n",
       "  </thead>\n",
       "  <tbody>\n",
       "    <tr>\n",
       "      <th>0</th>\n",
       "      <td>1</td>\n",
       "      <td>-1.872746</td>\n",
       "      <td>-2.191242</td>\n",
       "      <td>-0.474163</td>\n",
       "      <td>-0.323046</td>\n",
       "      <td>0.014688</td>\n",
       "      <td>-0.002484</td>\n",
       "      <td>NaN</td>\n",
       "      <td>NaN</td>\n",
       "      <td>-0.989982</td>\n",
       "      <td>...</td>\n",
       "      <td>NaN</td>\n",
       "      <td>NaN</td>\n",
       "      <td>1.168391</td>\n",
       "      <td>8.313583</td>\n",
       "      <td>1.782433</td>\n",
       "      <td>14.018213</td>\n",
       "      <td>2.653056</td>\n",
       "      <td>12.600292</td>\n",
       "      <td>2.301488</td>\n",
       "      <td>11.445807</td>\n",
       "    </tr>\n",
       "    <tr>\n",
       "      <th>1</th>\n",
       "      <td>-1</td>\n",
       "      <td>-1.349537</td>\n",
       "      <td>-1.704709</td>\n",
       "      <td>0.068058</td>\n",
       "      <td>0.028432</td>\n",
       "      <td>0.193794</td>\n",
       "      <td>0.138212</td>\n",
       "      <td>NaN</td>\n",
       "      <td>NaN</td>\n",
       "      <td>-0.151877</td>\n",
       "      <td>...</td>\n",
       "      <td>NaN</td>\n",
       "      <td>NaN</td>\n",
       "      <td>-1.178850</td>\n",
       "      <td>1.777472</td>\n",
       "      <td>-0.915458</td>\n",
       "      <td>2.831612</td>\n",
       "      <td>-1.417010</td>\n",
       "      <td>2.297459</td>\n",
       "      <td>-1.304614</td>\n",
       "      <td>1.898684</td>\n",
       "    </tr>\n",
       "    <tr>\n",
       "      <th>2</th>\n",
       "      <td>-1</td>\n",
       "      <td>0.812780</td>\n",
       "      <td>-0.256156</td>\n",
       "      <td>0.806463</td>\n",
       "      <td>0.400221</td>\n",
       "      <td>-0.614188</td>\n",
       "      <td>-0.354800</td>\n",
       "      <td>NaN</td>\n",
       "      <td>NaN</td>\n",
       "      <td>5.448261</td>\n",
       "      <td>...</td>\n",
       "      <td>NaN</td>\n",
       "      <td>NaN</td>\n",
       "      <td>6.115747</td>\n",
       "      <td>9.667908</td>\n",
       "      <td>5.542871</td>\n",
       "      <td>11.671595</td>\n",
       "      <td>7.281757</td>\n",
       "      <td>10.060014</td>\n",
       "      <td>6.638248</td>\n",
       "      <td>9.427299</td>\n",
       "    </tr>\n",
       "    <tr>\n",
       "      <th>3</th>\n",
       "      <td>-1</td>\n",
       "      <td>1.174378</td>\n",
       "      <td>0.344640</td>\n",
       "      <td>0.066872</td>\n",
       "      <td>0.009357</td>\n",
       "      <td>-1.006373</td>\n",
       "      <td>-0.676458</td>\n",
       "      <td>NaN</td>\n",
       "      <td>NaN</td>\n",
       "      <td>4.508206</td>\n",
       "      <td>...</td>\n",
       "      <td>NaN</td>\n",
       "      <td>NaN</td>\n",
       "      <td>2.838853</td>\n",
       "      <td>0.499251</td>\n",
       "      <td>3.033732</td>\n",
       "      <td>1.513488</td>\n",
       "      <td>4.397532</td>\n",
       "      <td>1.266037</td>\n",
       "      <td>3.856384</td>\n",
       "      <td>1.013469</td>\n",
       "    </tr>\n",
       "    <tr>\n",
       "      <th>4</th>\n",
       "      <td>1</td>\n",
       "      <td>-3.172026</td>\n",
       "      <td>-3.093182</td>\n",
       "      <td>-0.161518</td>\n",
       "      <td>-0.128149</td>\n",
       "      <td>-0.195006</td>\n",
       "      <td>-0.143780</td>\n",
       "      <td>NaN</td>\n",
       "      <td>NaN</td>\n",
       "      <td>2.683018</td>\n",
       "      <td>...</td>\n",
       "      <td>NaN</td>\n",
       "      <td>NaN</td>\n",
       "      <td>0.344850</td>\n",
       "      <td>4.101145</td>\n",
       "      <td>0.614252</td>\n",
       "      <td>6.623456</td>\n",
       "      <td>0.800129</td>\n",
       "      <td>5.233243</td>\n",
       "      <td>0.362636</td>\n",
       "      <td>3.926633</td>\n",
       "    </tr>\n",
       "  </tbody>\n",
       "</table>\n",
       "<p>5 rows × 130 columns</p>\n",
       "</div>"
      ],
      "text/plain": [
       "   feature_0  feature_1  feature_2  feature_3  feature_4  feature_5  \\\n",
       "0          1  -1.872746  -2.191242  -0.474163  -0.323046   0.014688   \n",
       "1         -1  -1.349537  -1.704709   0.068058   0.028432   0.193794   \n",
       "2         -1   0.812780  -0.256156   0.806463   0.400221  -0.614188   \n",
       "3         -1   1.174378   0.344640   0.066872   0.009357  -1.006373   \n",
       "4          1  -3.172026  -3.093182  -0.161518  -0.128149  -0.195006   \n",
       "\n",
       "   feature_6  feature_7  feature_8  feature_9  ...  feature_120  feature_121  \\\n",
       "0  -0.002484        NaN        NaN  -0.989982  ...          NaN          NaN   \n",
       "1   0.138212        NaN        NaN  -0.151877  ...          NaN          NaN   \n",
       "2  -0.354800        NaN        NaN   5.448261  ...          NaN          NaN   \n",
       "3  -0.676458        NaN        NaN   4.508206  ...          NaN          NaN   \n",
       "4  -0.143780        NaN        NaN   2.683018  ...          NaN          NaN   \n",
       "\n",
       "   feature_122  feature_123  feature_124  feature_125  feature_126  \\\n",
       "0     1.168391     8.313583     1.782433    14.018213     2.653056   \n",
       "1    -1.178850     1.777472    -0.915458     2.831612    -1.417010   \n",
       "2     6.115747     9.667908     5.542871    11.671595     7.281757   \n",
       "3     2.838853     0.499251     3.033732     1.513488     4.397532   \n",
       "4     0.344850     4.101145     0.614252     6.623456     0.800129   \n",
       "\n",
       "   feature_127  feature_128  feature_129  \n",
       "0    12.600292     2.301488    11.445807  \n",
       "1     2.297459    -1.304614     1.898684  \n",
       "2    10.060014     6.638248     9.427299  \n",
       "3     1.266037     3.856384     1.013469  \n",
       "4     5.233243     0.362636     3.926633  \n",
       "\n",
       "[5 rows x 130 columns]"
      ]
     },
     "execution_count": 26,
     "metadata": {},
     "output_type": "execute_result"
    }
   ],
   "source": [
    "train_df.filter(like=\"feature\").head()"
   ]
  },
  {
   "cell_type": "code",
   "execution_count": 36,
   "metadata": {
    "hidden": true
   },
   "outputs": [
    {
     "data": {
      "text/plain": [
       "array([   0,    0,    0,    0,    0,    0,    0, 1729, 1729,    2,    2,\n",
       "        315,  315,   34,   34,   16,   16, 1734, 1734,    2,    2,  319,\n",
       "        319,   34,   34,   16,   16, 1734, 1734,    2,    2,  319,  319,\n",
       "         34,   34,   16,   16,    0,    0,    0,    0,    0,    0,    0,\n",
       "          0,    0,    0,    0,    0,    0,    0,    0,    0,    0,    0,\n",
       "        335,    0,    0,    0,    0,    0,    0,    0,    0,    0,    0,\n",
       "          0,    0,    0,    0,    0,    0, 1586,    2,  250,   34,   16,\n",
       "          0, 1586,    2,  250,   34,   16,    0, 1586,    2,  250,   34,\n",
       "         16,    0, 1586,    2,  250,   34,   16,    0, 1586,    2,  250,\n",
       "         34,   16,    0, 1586,    2,  250,   34,   16,    0, 1586,    2,\n",
       "        250,   34,   16,    0, 1586,    2,  250,   34,   16,    0,  342,\n",
       "        342,    0,    0,   35,   35,   21,   21,    4,    4])"
      ]
     },
     "execution_count": 36,
     "metadata": {},
     "output_type": "execute_result"
    }
   ],
   "source": [
    "# NAs\n",
    "train_df.filter(like=\"feature\").isna().sum().values"
   ]
  },
  {
   "cell_type": "code",
   "execution_count": 33,
   "metadata": {
    "hidden": true
   },
   "outputs": [
    {
     "data": {
      "image/png": "[encoded data removed]",
      "text/plain": [
       "<Figure size 1296x432 with 1 Axes>"
      ]
     },
     "metadata": {
      "needs_background": "light"
     },
     "output_type": "display_data"
    }
   ],
   "source": [
    "# NAs barplot\n",
    "train_df.filter(like=\"feature\").isna().sum().plot.bar(figsize=(18,6));"
   ]
  },
  {
   "cell_type": "markdown",
   "metadata": {
    "heading_collapsed": true
   },
   "source": [
    "### resp"
   ]
  },
  {
   "cell_type": "markdown",
   "metadata": {
    "hidden": true
   },
   "source": [
    "**Returns:** `resp_1`, `resp_2`, `resp_3`, `resp_4`, `resp`"
   ]
  },
  {
   "cell_type": "code",
   "execution_count": 46,
   "metadata": {
    "hidden": true
   },
   "outputs": [
    {
     "data": {
      "text/plain": [
       "count    10000.000000\n",
       "mean         0.000562\n",
       "std          0.031490\n",
       "min         -0.217967\n",
       "25%         -0.011974\n",
       "50%          0.000125\n",
       "75%          0.012136\n",
       "max          0.180969\n",
       "Name: resp, dtype: float64"
      ]
     },
     "execution_count": 46,
     "metadata": {},
     "output_type": "execute_result"
    }
   ],
   "source": [
    "train_df[\"resp\"].describebe()"
   ]
  },
  {
   "cell_type": "code",
   "execution_count": 45,
   "metadata": {
    "hidden": true
   },
   "outputs": [
    {
     "data": {
      "image/png": "[encoded data removed]",
      "text/plain": [
       "<Figure size 432x288 with 1 Axes>"
      ]
     },
     "metadata": {
      "needs_background": "light"
     },
     "output_type": "display_data"
    }
   ],
   "source": [
    "train_df[\"resp\"].plot.kde(title=\"resp\");"
   ]
  },
  {
   "cell_type": "code",
   "execution_count": 53,
   "metadata": {
    "hidden": true
   },
   "outputs": [
    {
     "data": {
      "image/png": "[encoded data removed]",
      "text/plain": [
       "<Figure size 432x288 with 1 Axes>"
      ]
     },
     "metadata": {
      "needs_background": "light"
     },
     "output_type": "display_data"
    }
   ],
   "source": [
    "train_df[[\"resp\", \"resp_1\", \"resp_2\", \"resp_3\", \"resp_4\"]].plot.hist(bins=100, alpha=0.5);"
   ]
  },
  {
   "cell_type": "code",
   "execution_count": 58,
   "metadata": {
    "hidden": true
   },
   "outputs": [
    {
     "data": {
      "text/html": [
       "<style  type=\"text/css\" >\n",
       "#T_74fcc902_34e2_11eb_a3cf_3497f6000f61row0_col0,#T_74fcc902_34e2_11eb_a3cf_3497f6000f61row1_col1,#T_74fcc902_34e2_11eb_a3cf_3497f6000f61row2_col2,#T_74fcc902_34e2_11eb_a3cf_3497f6000f61row3_col3,#T_74fcc902_34e2_11eb_a3cf_3497f6000f61row4_col4{\n",
       "            background-color:  #b40426;\n",
       "            color:  #f1f1f1;\n",
       "        }#T_74fcc902_34e2_11eb_a3cf_3497f6000f61row0_col1{\n",
       "            background-color:  #516ddb;\n",
       "            color:  #000000;\n",
       "        }#T_74fcc902_34e2_11eb_a3cf_3497f6000f61row0_col2{\n",
       "            background-color:  #5f7fe8;\n",
       "            color:  #000000;\n",
       "        }#T_74fcc902_34e2_11eb_a3cf_3497f6000f61row0_col3{\n",
       "            background-color:  #7093f3;\n",
       "            color:  #000000;\n",
       "        }#T_74fcc902_34e2_11eb_a3cf_3497f6000f61row0_col4{\n",
       "            background-color:  #cf453c;\n",
       "            color:  #f1f1f1;\n",
       "        }#T_74fcc902_34e2_11eb_a3cf_3497f6000f61row1_col0,#T_74fcc902_34e2_11eb_a3cf_3497f6000f61row1_col3,#T_74fcc902_34e2_11eb_a3cf_3497f6000f61row1_col4,#T_74fcc902_34e2_11eb_a3cf_3497f6000f61row4_col1,#T_74fcc902_34e2_11eb_a3cf_3497f6000f61row4_col2{\n",
       "            background-color:  #3b4cc0;\n",
       "            color:  #f1f1f1;\n",
       "        }#T_74fcc902_34e2_11eb_a3cf_3497f6000f61row1_col2{\n",
       "            background-color:  #ec8165;\n",
       "            color:  #000000;\n",
       "        }#T_74fcc902_34e2_11eb_a3cf_3497f6000f61row2_col0{\n",
       "            background-color:  #85a8fc;\n",
       "            color:  #000000;\n",
       "        }#T_74fcc902_34e2_11eb_a3cf_3497f6000f61row2_col1{\n",
       "            background-color:  #e46e56;\n",
       "            color:  #000000;\n",
       "        }#T_74fcc902_34e2_11eb_a3cf_3497f6000f61row2_col3{\n",
       "            background-color:  #d1dae9;\n",
       "            color:  #000000;\n",
       "        }#T_74fcc902_34e2_11eb_a3cf_3497f6000f61row2_col4{\n",
       "            background-color:  #799cf8;\n",
       "            color:  #000000;\n",
       "        }#T_74fcc902_34e2_11eb_a3cf_3497f6000f61row3_col0{\n",
       "            background-color:  #e5d8d1;\n",
       "            color:  #000000;\n",
       "        }#T_74fcc902_34e2_11eb_a3cf_3497f6000f61row3_col1{\n",
       "            background-color:  #d8dce2;\n",
       "            color:  #000000;\n",
       "        }#T_74fcc902_34e2_11eb_a3cf_3497f6000f61row3_col2{\n",
       "            background-color:  #f6bda2;\n",
       "            color:  #000000;\n",
       "        }#T_74fcc902_34e2_11eb_a3cf_3497f6000f61row3_col4{\n",
       "            background-color:  #f7b89c;\n",
       "            color:  #000000;\n",
       "        }#T_74fcc902_34e2_11eb_a3cf_3497f6000f61row4_col0{\n",
       "            background-color:  #d0473d;\n",
       "            color:  #f1f1f1;\n",
       "        }#T_74fcc902_34e2_11eb_a3cf_3497f6000f61row4_col3{\n",
       "            background-color:  #b1cbfc;\n",
       "            color:  #000000;\n",
       "        }</style><table id=\"T_74fcc902_34e2_11eb_a3cf_3497f6000f61\" ><thead>    <tr>        <th class=\"blank level0\" ></th>        <th class=\"col_heading level0 col0\" >resp</th>        <th class=\"col_heading level0 col1\" >resp_1</th>        <th class=\"col_heading level0 col2\" >resp_2</th>        <th class=\"col_heading level0 col3\" >resp_3</th>        <th class=\"col_heading level0 col4\" >resp_4</th>    </tr></thead><tbody>\n",
       "                <tr>\n",
       "                        <th id=\"T_74fcc902_34e2_11eb_a3cf_3497f6000f61level0_row0\" class=\"row_heading level0 row0\" >resp</th>\n",
       "                        <td id=\"T_74fcc902_34e2_11eb_a3cf_3497f6000f61row0_col0\" class=\"data row0 col0\" >1.000000</td>\n",
       "                        <td id=\"T_74fcc902_34e2_11eb_a3cf_3497f6000f61row0_col1\" class=\"data row0 col1\" >0.387370</td>\n",
       "                        <td id=\"T_74fcc902_34e2_11eb_a3cf_3497f6000f61row0_col2\" class=\"data row0 col2\" >0.527172</td>\n",
       "                        <td id=\"T_74fcc902_34e2_11eb_a3cf_3497f6000f61row0_col3\" class=\"data row0 col3\" >0.713955</td>\n",
       "                        <td id=\"T_74fcc902_34e2_11eb_a3cf_3497f6000f61row0_col4\" class=\"data row0 col4\" >0.949965</td>\n",
       "            </tr>\n",
       "            <tr>\n",
       "                        <th id=\"T_74fcc902_34e2_11eb_a3cf_3497f6000f61level0_row1\" class=\"row_heading level0 row1\" >resp_1</th>\n",
       "                        <td id=\"T_74fcc902_34e2_11eb_a3cf_3497f6000f61row1_col0\" class=\"data row1 col0\" >0.387370</td>\n",
       "                        <td id=\"T_74fcc902_34e2_11eb_a3cf_3497f6000f61row1_col1\" class=\"data row1 col1\" >1.000000</td>\n",
       "                        <td id=\"T_74fcc902_34e2_11eb_a3cf_3497f6000f61row1_col2\" class=\"data row1 col2\" >0.896797</td>\n",
       "                        <td id=\"T_74fcc902_34e2_11eb_a3cf_3497f6000f61row1_col3\" class=\"data row1 col3\" >0.656181</td>\n",
       "                        <td id=\"T_74fcc902_34e2_11eb_a3cf_3497f6000f61row1_col4\" class=\"data row1 col4\" >0.335854</td>\n",
       "            </tr>\n",
       "            <tr>\n",
       "                        <th id=\"T_74fcc902_34e2_11eb_a3cf_3497f6000f61level0_row2\" class=\"row_heading level0 row2\" >resp_2</th>\n",
       "                        <td id=\"T_74fcc902_34e2_11eb_a3cf_3497f6000f61row2_col0\" class=\"data row2 col0\" >0.527172</td>\n",
       "                        <td id=\"T_74fcc902_34e2_11eb_a3cf_3497f6000f61row2_col1\" class=\"data row2 col1\" >0.896797</td>\n",
       "                        <td id=\"T_74fcc902_34e2_11eb_a3cf_3497f6000f61row2_col2\" class=\"data row2 col2\" >1.000000</td>\n",
       "                        <td id=\"T_74fcc902_34e2_11eb_a3cf_3497f6000f61row2_col3\" class=\"data row2 col3\" >0.812839</td>\n",
       "                        <td id=\"T_74fcc902_34e2_11eb_a3cf_3497f6000f61row2_col4\" class=\"data row2 col4\" >0.463837</td>\n",
       "            </tr>\n",
       "            <tr>\n",
       "                        <th id=\"T_74fcc902_34e2_11eb_a3cf_3497f6000f61level0_row3\" class=\"row_heading level0 row3\" >resp_3</th>\n",
       "                        <td id=\"T_74fcc902_34e2_11eb_a3cf_3497f6000f61row3_col0\" class=\"data row3 col0\" >0.713955</td>\n",
       "                        <td id=\"T_74fcc902_34e2_11eb_a3cf_3497f6000f61row3_col1\" class=\"data row3 col1\" >0.656181</td>\n",
       "                        <td id=\"T_74fcc902_34e2_11eb_a3cf_3497f6000f61row3_col2\" class=\"data row3 col2\" >0.812839</td>\n",
       "                        <td id=\"T_74fcc902_34e2_11eb_a3cf_3497f6000f61row3_col3\" class=\"data row3 col3\" >1.000000</td>\n",
       "                        <td id=\"T_74fcc902_34e2_11eb_a3cf_3497f6000f61row3_col4\" class=\"data row3 col4\" >0.778084</td>\n",
       "            </tr>\n",
       "            <tr>\n",
       "                        <th id=\"T_74fcc902_34e2_11eb_a3cf_3497f6000f61level0_row4\" class=\"row_heading level0 row4\" >resp_4</th>\n",
       "                        <td id=\"T_74fcc902_34e2_11eb_a3cf_3497f6000f61row4_col0\" class=\"data row4 col0\" >0.949965</td>\n",
       "                        <td id=\"T_74fcc902_34e2_11eb_a3cf_3497f6000f61row4_col1\" class=\"data row4 col1\" >0.335854</td>\n",
       "                        <td id=\"T_74fcc902_34e2_11eb_a3cf_3497f6000f61row4_col2\" class=\"data row4 col2\" >0.463837</td>\n",
       "                        <td id=\"T_74fcc902_34e2_11eb_a3cf_3497f6000f61row4_col3\" class=\"data row4 col3\" >0.778084</td>\n",
       "                        <td id=\"T_74fcc902_34e2_11eb_a3cf_3497f6000f61row4_col4\" class=\"data row4 col4\" >1.000000</td>\n",
       "            </tr>\n",
       "    </tbody></table>"
      ],
      "text/plain": [
       "<pandas.io.formats.style.Styler at 0x7f6b7ac39cf8>"
      ]
     },
     "execution_count": 58,
     "metadata": {},
     "output_type": "execute_result"
    }
   ],
   "source": [
    "## Correlations\n",
    "corr_df = train_df[[\"resp\", \"resp_1\", \"resp_2\", \"resp_3\", \"resp_4\"]].corr()\n",
    "corr_df.style.background_gradient(cmap ='coolwarm') "
   ]
  },
  {
   "cell_type": "code",
   "execution_count": 62,
   "metadata": {
    "hidden": true
   },
   "outputs": [
    {
     "data": {
      "text/html": [
       "<div>\n",
       "<style scoped>\n",
       "    .dataframe tbody tr th:only-of-type {\n",
       "        vertical-align: middle;\n",
       "    }\n",
       "\n",
       "    .dataframe tbody tr th {\n",
       "        vertical-align: top;\n",
       "    }\n",
       "\n",
       "    .dataframe thead th {\n",
       "        text-align: right;\n",
       "    }\n",
       "</style>\n",
       "<table border=\"1\" class=\"dataframe\">\n",
       "  <thead>\n",
       "    <tr style=\"text-align: right;\">\n",
       "      <th></th>\n",
       "      <th></th>\n",
       "      <th>resp</th>\n",
       "      <th>resp_1</th>\n",
       "      <th>resp_2</th>\n",
       "      <th>resp_3</th>\n",
       "      <th>resp_4</th>\n",
       "    </tr>\n",
       "    <tr>\n",
       "      <th>date</th>\n",
       "      <th></th>\n",
       "      <th></th>\n",
       "      <th></th>\n",
       "      <th></th>\n",
       "      <th></th>\n",
       "      <th></th>\n",
       "    </tr>\n",
       "  </thead>\n",
       "  <tbody>\n",
       "    <tr>\n",
       "      <th rowspan=\"5\" valign=\"top\">0</th>\n",
       "      <th>resp</th>\n",
       "      <td>1.000000</td>\n",
       "      <td>0.398181</td>\n",
       "      <td>0.530521</td>\n",
       "      <td>0.590132</td>\n",
       "      <td>0.916580</td>\n",
       "    </tr>\n",
       "    <tr>\n",
       "      <th>resp_1</th>\n",
       "      <td>0.398181</td>\n",
       "      <td>1.000000</td>\n",
       "      <td>0.902503</td>\n",
       "      <td>0.676037</td>\n",
       "      <td>0.371347</td>\n",
       "    </tr>\n",
       "    <tr>\n",
       "      <th>resp_2</th>\n",
       "      <td>0.530521</td>\n",
       "      <td>0.902503</td>\n",
       "      <td>1.000000</td>\n",
       "      <td>0.832390</td>\n",
       "      <td>0.505351</td>\n",
       "    </tr>\n",
       "    <tr>\n",
       "      <th>resp_3</th>\n",
       "      <td>0.590132</td>\n",
       "      <td>0.676037</td>\n",
       "      <td>0.832390</td>\n",
       "      <td>1.000000</td>\n",
       "      <td>0.732654</td>\n",
       "    </tr>\n",
       "    <tr>\n",
       "      <th>resp_4</th>\n",
       "      <td>0.916580</td>\n",
       "      <td>0.371347</td>\n",
       "      <td>0.505351</td>\n",
       "      <td>0.732654</td>\n",
       "      <td>1.000000</td>\n",
       "    </tr>\n",
       "    <tr>\n",
       "      <th rowspan=\"5\" valign=\"top\">1</th>\n",
       "      <th>resp</th>\n",
       "      <td>1.000000</td>\n",
       "      <td>0.398175</td>\n",
       "      <td>0.548812</td>\n",
       "      <td>0.885128</td>\n",
       "      <td>0.976254</td>\n",
       "    </tr>\n",
       "    <tr>\n",
       "      <th>resp_1</th>\n",
       "      <td>0.398175</td>\n",
       "      <td>1.000000</td>\n",
       "      <td>0.886651</td>\n",
       "      <td>0.622779</td>\n",
       "      <td>0.320370</td>\n",
       "    </tr>\n",
       "    <tr>\n",
       "      <th>resp_2</th>\n",
       "      <td>0.548812</td>\n",
       "      <td>0.886651</td>\n",
       "      <td>1.000000</td>\n",
       "      <td>0.780087</td>\n",
       "      <td>0.445689</td>\n",
       "    </tr>\n",
       "    <tr>\n",
       "      <th>resp_3</th>\n",
       "      <td>0.885128</td>\n",
       "      <td>0.622779</td>\n",
       "      <td>0.780087</td>\n",
       "      <td>1.000000</td>\n",
       "      <td>0.865868</td>\n",
       "    </tr>\n",
       "    <tr>\n",
       "      <th>resp_4</th>\n",
       "      <td>0.976254</td>\n",
       "      <td>0.320370</td>\n",
       "      <td>0.445689</td>\n",
       "      <td>0.865868</td>\n",
       "      <td>1.000000</td>\n",
       "    </tr>\n",
       "  </tbody>\n",
       "</table>\n",
       "</div>"
      ],
      "text/plain": [
       "                 resp    resp_1    resp_2    resp_3    resp_4\n",
       "date                                                         \n",
       "0    resp    1.000000  0.398181  0.530521  0.590132  0.916580\n",
       "     resp_1  0.398181  1.000000  0.902503  0.676037  0.371347\n",
       "     resp_2  0.530521  0.902503  1.000000  0.832390  0.505351\n",
       "     resp_3  0.590132  0.676037  0.832390  1.000000  0.732654\n",
       "     resp_4  0.916580  0.371347  0.505351  0.732654  1.000000\n",
       "1    resp    1.000000  0.398175  0.548812  0.885128  0.976254\n",
       "     resp_1  0.398175  1.000000  0.886651  0.622779  0.320370\n",
       "     resp_2  0.548812  0.886651  1.000000  0.780087  0.445689\n",
       "     resp_3  0.885128  0.622779  0.780087  1.000000  0.865868\n",
       "     resp_4  0.976254  0.320370  0.445689  0.865868  1.000000"
      ]
     },
     "execution_count": 62,
     "metadata": {},
     "output_type": "execute_result"
    }
   ],
   "source": [
    "# Correlations per day\n",
    "corr_df_per_day = train_df[[\"date\",\"resp\", \"resp_1\", \"resp_2\", \"resp_3\", \"resp_4\"]].groupby(\"date\").corr()\n",
    "corr_df_per_day"
   ]
  },
  {
   "cell_type": "code",
   "execution_count": 80,
   "metadata": {
    "hidden": true
   },
   "outputs": [
    {
     "data": {
      "text/plain": [
       "date\n",
       "0    0.398181\n",
       "1    0.398175\n",
       "Name: resp_1, dtype: float64"
      ]
     },
     "execution_count": 80,
     "metadata": {},
     "output_type": "execute_result"
    }
   ],
   "source": [
    "# Evaluate the correlation between resp, resp_1 per day\n",
    "corr_df_per_day.swaplevel().loc[\"resp\", \"resp_1\"]"
   ]
  }
 ],
 "metadata": {
  "kernelspec": {
   "display_name": "Python 3",
   "language": "python",
   "name": "python3"
  },
  "language_info": {
   "codemirror_mode": {
    "name": "ipython",
    "version": 3
   },
   "file_extension": ".py",
   "mimetype": "text/x-python",
   "name": "python",
   "nbconvert_exporter": "python",
   "pygments_lexer": "ipython3",
   "version": "3.7.6"
  },
  "toc": {
   "base_numbering": 1,
   "nav_menu": {},
   "number_sections": true,
   "sideBar": true,
   "skip_h1_title": false,
   "title_cell": "Table of Contents",
   "title_sidebar": "Contents",
   "toc_cell": false,
   "toc_position": {},
   "toc_section_display": true,
   "toc_window_display": false
  },
  "varInspector": {
   "cols": {
    "lenName": 16,
    "lenType": 16,
    "lenVar": 40
   },
   "kernels_config": {
    "python": {
     "delete_cmd_postfix": "",
     "delete_cmd_prefix": "del ",
     "library": "var_list.py",
     "varRefreshCmd": "print(var_dic_list())"
    },
    "r": {
     "delete_cmd_postfix": ") ",
     "delete_cmd_prefix": "rm(",
     "library": "var_list.r",
     "varRefreshCmd": "cat(var_dic_list()) "
    }
   },
   "types_to_exclude": [
    "module",
    "function",
    "builtin_function_or_method",
    "instance",
    "_Feature"
   ],
   "window_display": false
  }
 },
 "nbformat": 4,
 "nbformat_minor": 4
}
