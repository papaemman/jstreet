{
 "cells": [
  {
   "cell_type": "markdown",
   "metadata": {},
   "source": [
    "# How time series API works?"
   ]
  },
  {
   "cell_type": "markdown",
   "metadata": {},
   "source": [
    "**DOCUMENTATION**\n",
    "\n",
    "`Submission file`\n",
    "\n",
    "https://www.kaggle.com/c/jane-street-market-prediction/overview/evaluation"
   ]
  },
  {
   "cell_type": "code",
   "execution_count": null,
   "metadata": {},
   "outputs": [],
   "source": [
    "import janestreet\n",
    "env = janestreet.make_env() # initialize the environment\n",
    "iter_test = env.iter_test() # an iterator which loops over the test set\n",
    "\n",
    "for (test_df, sample_prediction_df) in iter_test:\n",
    "    sample_prediction_df.action = 0 #make your 0/1 prediction here\n",
    "    env.predict(sample_prediction_df)"
   ]
  },
  {
   "cell_type": "markdown",
   "metadata": {},
   "source": [
    "## Time series API description"
   ]
  },
  {
   "cell_type": "markdown",
   "metadata": {},
   "source": [
    "Το input/jane-street-market-prediction/janestreet αρχείο περιέχει compiled κώδικα για το time series API.\n",
    "\n",
    "Όταν τρέχω τον κώδικα έρχεται κάθε γραμμή του test διαδοχικά (αυτή που αντιστοιχεί στην συγκεκριμένη στιγμή) ώστε να μην υπάρχει data leakage, δληαδή το μοντέλο να μην βλέπει στο μέλλον.\n",
    "\n",
    "Όταν κάνω submit την λύση μου, δεν τρέχει ακριβώς το ίδιο περιβάλλον, αλλά ένα με 1.000.000 γραμμές.\n"
   ]
  },
  {
   "cell_type": "markdown",
   "metadata": {},
   "source": [
    "## Testing"
   ]
  },
  {
   "cell_type": "code",
   "execution_count": 8,
   "metadata": {},
   "outputs": [],
   "source": [
    "import pandas as pd"
   ]
  },
  {
   "cell_type": "code",
   "execution_count": 1,
   "metadata": {},
   "outputs": [],
   "source": [
    "import janestreet\n",
    "env = janestreet.make_env() # initialize the environment\n",
    "iter_test = env.iter_test() # an iterator which loops over the test set"
   ]
  },
  {
   "cell_type": "code",
   "execution_count": 11,
   "metadata": {},
   "outputs": [
    {
     "name": "stdout",
     "output_type": "stream",
     "text": [
      "Counter: 1\n",
      "   date    weight  feature_0  feature_1  feature_2  feature_3  feature_4  \\\n",
      "6   0.0  0.190575       -1.0  -3.172026  -3.093182  -0.030588  -0.043175   \n",
      "\n",
      "   feature_5  feature_6  feature_7  ...  feature_120  feature_121  \\\n",
      "6   0.097058   0.053483        NaN  ...          NaN          NaN   \n",
      "\n",
      "   feature_122  feature_123  feature_124  feature_125  feature_126  \\\n",
      "6     0.336873     4.076447     0.614783     6.622176     0.800618   \n",
      "\n",
      "   feature_127  feature_128  feature_129  \n",
      "6     5.231595     0.361506     3.921714  \n",
      "\n",
      "[1 rows x 132 columns]\n",
      "(1, 132)\n",
      "<class 'pandas.core.frame.DataFrame'>\n",
      "------------------------------\n",
      "   action\n",
      "6       1\n",
      "(1, 1)\n",
      "<class 'pandas.core.frame.DataFrame'>\n",
      "----------------------------------------------------------------------------------------------------\n",
      "Counter: 2\n",
      "   date    weight  feature_0  feature_1  feature_2  feature_3  feature_4  \\\n",
      "7   0.0  3.820844       -1.0    0.44605   -0.46621   0.498751   0.244116   \n",
      "\n",
      "   feature_5  feature_6  feature_7  ...  feature_120  feature_121  \\\n",
      "7   0.412528    0.22414        NaN  ...          NaN          NaN   \n",
      "\n",
      "   feature_122  feature_123  feature_124  feature_125  feature_126  \\\n",
      "7     2.101997     4.846202     1.479875     5.261328     2.305066   \n",
      "\n",
      "   feature_127  feature_128  feature_129  \n",
      "7     4.571762     2.201537     4.429745  \n",
      "\n",
      "[1 rows x 132 columns]\n",
      "(1, 132)\n",
      "<class 'pandas.core.frame.DataFrame'>\n",
      "------------------------------\n",
      "   action\n",
      "7       1\n",
      "(1, 1)\n",
      "<class 'pandas.core.frame.DataFrame'>\n",
      "----------------------------------------------------------------------------------------------------\n"
     ]
    }
   ],
   "source": [
    "counter = 1\n",
    "\n",
    "for (test_df, sample_prediction_df) in iter_test:\n",
    "    \n",
    "    \n",
    "    \"\"\"\n",
    "    \n",
    "    test_df: \n",
    "    \n",
    "    \n",
    "    \n",
    "    sample_prediction_df:\n",
    "    \n",
    "    \"\"\"\n",
    "    \n",
    "    print(f\"Counter: {counter}\")\n",
    "    counter +=1\n",
    "    \n",
    "    \n",
    "    print(test_df)\n",
    "    print(test_df.shape)\n",
    "    print(type(test_df))\n",
    "    \n",
    "    print(\"-\"*30)\n",
    "          \n",
    "          \n",
    "    print(sample_prediction_df)\n",
    "    print(sample_prediction_df.shape)\n",
    "    print(type(sample_prediction_df))\n",
    "    \n",
    "          \n",
    "    # Keep predictions\n",
    "    # sample_prediction_df\n",
    "          \n",
    "    # Make prediction\n",
    "    sample_prediction_df.action = 1    # make your 0/1 prediction here\n",
    "    env.predict(sample_prediction_df)\n",
    "    \n",
    "    print(\"-\"*100)\n",
    "          \n",
    "    if counter == 3:\n",
    "          break"
   ]
  },
  {
   "cell_type": "code",
   "execution_count": 9,
   "metadata": {},
   "outputs": [],
   "source": [
    "test = pd.read_csv(\"../input/jane-street-market-prediction/example_test.csv\")"
   ]
  },
  {
   "cell_type": "code",
   "execution_count": 10,
   "metadata": {},
   "outputs": [
    {
     "data": {
      "text/html": [
       "<div>\n",
       "<style scoped>\n",
       "    .dataframe tbody tr th:only-of-type {\n",
       "        vertical-align: middle;\n",
       "    }\n",
       "\n",
       "    .dataframe tbody tr th {\n",
       "        vertical-align: top;\n",
       "    }\n",
       "\n",
       "    .dataframe thead th {\n",
       "        text-align: right;\n",
       "    }\n",
       "</style>\n",
       "<table border=\"1\" class=\"dataframe\">\n",
       "  <thead>\n",
       "    <tr style=\"text-align: right;\">\n",
       "      <th></th>\n",
       "      <th>date</th>\n",
       "      <th>weight</th>\n",
       "      <th>feature_0</th>\n",
       "      <th>feature_1</th>\n",
       "      <th>feature_2</th>\n",
       "      <th>feature_3</th>\n",
       "      <th>feature_4</th>\n",
       "      <th>feature_5</th>\n",
       "      <th>feature_6</th>\n",
       "      <th>feature_7</th>\n",
       "      <th>...</th>\n",
       "      <th>feature_121</th>\n",
       "      <th>feature_122</th>\n",
       "      <th>feature_123</th>\n",
       "      <th>feature_124</th>\n",
       "      <th>feature_125</th>\n",
       "      <th>feature_126</th>\n",
       "      <th>feature_127</th>\n",
       "      <th>feature_128</th>\n",
       "      <th>feature_129</th>\n",
       "      <th>ts_id</th>\n",
       "    </tr>\n",
       "  </thead>\n",
       "  <tbody>\n",
       "    <tr>\n",
       "      <th>0</th>\n",
       "      <td>0</td>\n",
       "      <td>0.000000</td>\n",
       "      <td>1</td>\n",
       "      <td>-1.872746</td>\n",
       "      <td>-2.191242</td>\n",
       "      <td>-0.474163</td>\n",
       "      <td>-0.323046</td>\n",
       "      <td>0.014688</td>\n",
       "      <td>-0.002484</td>\n",
       "      <td>NaN</td>\n",
       "      <td>...</td>\n",
       "      <td>NaN</td>\n",
       "      <td>1.168391</td>\n",
       "      <td>8.313583</td>\n",
       "      <td>1.782433</td>\n",
       "      <td>14.018213</td>\n",
       "      <td>2.653056</td>\n",
       "      <td>12.600292</td>\n",
       "      <td>2.301488</td>\n",
       "      <td>11.445807</td>\n",
       "      <td>0</td>\n",
       "    </tr>\n",
       "    <tr>\n",
       "      <th>1</th>\n",
       "      <td>0</td>\n",
       "      <td>16.673515</td>\n",
       "      <td>-1</td>\n",
       "      <td>-1.349537</td>\n",
       "      <td>-1.704709</td>\n",
       "      <td>0.068058</td>\n",
       "      <td>0.028432</td>\n",
       "      <td>0.193794</td>\n",
       "      <td>0.138212</td>\n",
       "      <td>NaN</td>\n",
       "      <td>...</td>\n",
       "      <td>NaN</td>\n",
       "      <td>-1.178850</td>\n",
       "      <td>1.777472</td>\n",
       "      <td>-0.915458</td>\n",
       "      <td>2.831612</td>\n",
       "      <td>-1.417010</td>\n",
       "      <td>2.297459</td>\n",
       "      <td>-1.304614</td>\n",
       "      <td>1.898684</td>\n",
       "      <td>1</td>\n",
       "    </tr>\n",
       "  </tbody>\n",
       "</table>\n",
       "<p>2 rows × 133 columns</p>\n",
       "</div>"
      ],
      "text/plain": [
       "   date     weight  feature_0  feature_1  feature_2  feature_3  feature_4  \\\n",
       "0     0   0.000000          1  -1.872746  -2.191242  -0.474163  -0.323046   \n",
       "1     0  16.673515         -1  -1.349537  -1.704709   0.068058   0.028432   \n",
       "\n",
       "   feature_5  feature_6  feature_7  ...  feature_121  feature_122  \\\n",
       "0   0.014688  -0.002484        NaN  ...          NaN     1.168391   \n",
       "1   0.193794   0.138212        NaN  ...          NaN    -1.178850   \n",
       "\n",
       "   feature_123  feature_124  feature_125  feature_126  feature_127  \\\n",
       "0     8.313583     1.782433    14.018213     2.653056    12.600292   \n",
       "1     1.777472    -0.915458     2.831612    -1.417010     2.297459   \n",
       "\n",
       "   feature_128  feature_129  ts_id  \n",
       "0     2.301488    11.445807      0  \n",
       "1    -1.304614     1.898684      1  \n",
       "\n",
       "[2 rows x 133 columns]"
      ]
     },
     "execution_count": 10,
     "metadata": {},
     "output_type": "execute_result"
    }
   ],
   "source": [
    "test.iloc[:2,]"
   ]
  },
  {
   "cell_type": "code",
   "execution_count": 13,
   "metadata": {},
   "outputs": [
    {
     "data": {
      "text/html": [
       "<div>\n",
       "<style scoped>\n",
       "    .dataframe tbody tr th:only-of-type {\n",
       "        vertical-align: middle;\n",
       "    }\n",
       "\n",
       "    .dataframe tbody tr th {\n",
       "        vertical-align: top;\n",
       "    }\n",
       "\n",
       "    .dataframe thead th {\n",
       "        text-align: right;\n",
       "    }\n",
       "</style>\n",
       "<table border=\"1\" class=\"dataframe\">\n",
       "  <thead>\n",
       "    <tr style=\"text-align: right;\">\n",
       "      <th></th>\n",
       "      <th>date</th>\n",
       "      <th>weight</th>\n",
       "      <th>feature_0</th>\n",
       "      <th>feature_1</th>\n",
       "      <th>feature_2</th>\n",
       "      <th>feature_3</th>\n",
       "      <th>feature_4</th>\n",
       "      <th>feature_5</th>\n",
       "      <th>feature_6</th>\n",
       "      <th>feature_7</th>\n",
       "      <th>...</th>\n",
       "      <th>feature_121</th>\n",
       "      <th>feature_122</th>\n",
       "      <th>feature_123</th>\n",
       "      <th>feature_124</th>\n",
       "      <th>feature_125</th>\n",
       "      <th>feature_126</th>\n",
       "      <th>feature_127</th>\n",
       "      <th>feature_128</th>\n",
       "      <th>feature_129</th>\n",
       "      <th>ts_id</th>\n",
       "    </tr>\n",
       "  </thead>\n",
       "  <tbody>\n",
       "  </tbody>\n",
       "</table>\n",
       "<p>0 rows × 133 columns</p>\n",
       "</div>"
      ],
      "text/plain": [
       "Empty DataFrame\n",
       "Columns: [date, weight, feature_0, feature_1, feature_2, feature_3, feature_4, feature_5, feature_6, feature_7, feature_8, feature_9, feature_10, feature_11, feature_12, feature_13, feature_14, feature_15, feature_16, feature_17, feature_18, feature_19, feature_20, feature_21, feature_22, feature_23, feature_24, feature_25, feature_26, feature_27, feature_28, feature_29, feature_30, feature_31, feature_32, feature_33, feature_34, feature_35, feature_36, feature_37, feature_38, feature_39, feature_40, feature_41, feature_42, feature_43, feature_44, feature_45, feature_46, feature_47, feature_48, feature_49, feature_50, feature_51, feature_52, feature_53, feature_54, feature_55, feature_56, feature_57, feature_58, feature_59, feature_60, feature_61, feature_62, feature_63, feature_64, feature_65, feature_66, feature_67, feature_68, feature_69, feature_70, feature_71, feature_72, feature_73, feature_74, feature_75, feature_76, feature_77, feature_78, feature_79, feature_80, feature_81, feature_82, feature_83, feature_84, feature_85, feature_86, feature_87, feature_88, feature_89, feature_90, feature_91, feature_92, feature_93, feature_94, feature_95, feature_96, feature_97, ...]\n",
       "Index: []\n",
       "\n",
       "[0 rows x 133 columns]"
      ]
     },
     "execution_count": 13,
     "metadata": {},
     "output_type": "execute_result"
    }
   ],
   "source": [
    "test[test[\"weight\"] == 0.190575]"
   ]
  },
  {
   "cell_type": "code",
   "execution_count": null,
   "metadata": {},
   "outputs": [],
   "source": [
    "test = pd.read_csv('../input/jane-street-market-prediction/example_test.csv')\n",
    "print(f'Done loading data. Test shape is {test.shape}')"
   ]
  },
  {
   "cell_type": "code",
   "execution_count": null,
   "metadata": {},
   "outputs": [],
   "source": [
    "test.iloc[-1]"
   ]
  },
  {
   "cell_type": "markdown",
   "metadata": {},
   "source": [
    "**Notes**\n",
    "\n",
    "* **test_df** created from iter_test, has 1 columns less from **example_test.csv** (ts_id missing), but has ts_id as index.\n",
    "* Ths last column of example_test it's the same with test_df"
   ]
  },
  {
   "cell_type": "markdown",
   "metadata": {},
   "source": [
    "**Common Errors** \n",
    "\n",
    "* You must call `predict()` successfully before you can continue with `iter_test()`"
   ]
  }
 ],
 "metadata": {
  "kernelspec": {
   "display_name": "Python 3",
   "language": "python",
   "name": "python3"
  },
  "language_info": {
   "codemirror_mode": {
    "name": "ipython",
    "version": 3
   },
   "file_extension": ".py",
   "mimetype": "text/x-python",
   "name": "python",
   "nbconvert_exporter": "python",
   "pygments_lexer": "ipython3",
   "version": "3.7.6"
  },
  "toc": {
   "base_numbering": 1,
   "nav_menu": {},
   "number_sections": true,
   "sideBar": true,
   "skip_h1_title": false,
   "title_cell": "Table of Contents",
   "title_sidebar": "Contents",
   "toc_cell": false,
   "toc_position": {},
   "toc_section_display": true,
   "toc_window_display": false
  }
 },
 "nbformat": 4,
 "nbformat_minor": 4
}
