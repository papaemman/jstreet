{
 "cells": [
  {
   "cell_type": "code",
   "execution_count": 1,
   "metadata": {},
   "outputs": [],
   "source": [
    "# Load modules\n",
    "import numpy as np\n",
    "import pandas as pd\n",
    "import xgboost as xgb\n",
    "import janestreet"
   ]
  },
  {
   "cell_type": "code",
   "execution_count": 2,
   "metadata": {},
   "outputs": [],
   "source": [
    "import gc # garbage collection\n",
    "import joblib"
   ]
  },
  {
   "cell_type": "code",
   "execution_count": 7,
   "metadata": {},
   "outputs": [
    {
     "name": "stdout",
     "output_type": "stream",
     "text": [
      "Done loading data. Train shape is (2390491, 138)\n",
      "Done loading data. Train shape is (15219, 133)\n"
     ]
    }
   ],
   "source": [
    "# Load data\n",
    "train = pd.read_csv('../../input/train.csv')\n",
    "print(f'Done loading data. Train shape is {train.shape}')\n",
    "\n",
    "test = pd.read_csv('../../input/example_test.csv')\n",
    "print(f'Done loading data. Train shape is {test.shape}')"
   ]
  },
  {
   "cell_type": "markdown",
   "metadata": {},
   "source": [
    "## Use the previously trained model to replicate evaluation metric"
   ]
  },
  {
   "cell_type": "code",
   "execution_count": 12,
   "metadata": {},
   "outputs": [
    {
     "data": {
      "text/plain": [
       "XGBClassifier(base_score=0.5, booster='gbtree', colsample_bylevel=1,\n",
       "              colsample_bynode=1, colsample_bytree=0.7, gamma=0, gpu_id=-1,\n",
       "              importance_type='gain', interaction_constraints='',\n",
       "              learning_rate=0.05, max_delta_step=0, max_depth=11,\n",
       "              min_child_weight=1, missing=-999, monotone_constraints='()',\n",
       "              n_estimators=500, n_jobs=10, num_parallel_tree=1,\n",
       "              random_state=2020, reg_alpha=0, reg_lambda=1, scale_pos_weight=1,\n",
       "              subsample=0.9, tree_method='hist', validate_parameters=1,\n",
       "              verbosity=None)"
      ]
     },
     "execution_count": 12,
     "metadata": {},
     "output_type": "execute_result"
    }
   ],
   "source": [
    "# save model to file\n",
    "model = joblib.load(\"../../models/xgboost_v0.joblib.dat\")\n",
    "model"
   ]
  },
  {
   "cell_type": "code",
   "execution_count": 14,
   "metadata": {},
   "outputs": [
    {
     "data": {
      "text/plain": [
       "array([0.00532274, 0.00602939, 0.00628814, 0.00970919, 0.01010959,\n",
       "       0.01138134, 0.01101878, 0.00668959, 0.00693892, 0.00581116,\n",
       "       0.00620342, 0.00600137, 0.00639699, 0.00577832, 0.00603356,\n",
       "       0.0057876 , 0.00609435, 0.00705169, 0.0070607 , 0.00613554,\n",
       "       0.0076975 , 0.00678248, 0.00666437, 0.00681461, 0.00675921,\n",
       "       0.00673401, 0.0072132 , 0.0097997 , 0.00832646, 0.00622895,\n",
       "       0.006573  , 0.00757563, 0.00690063, 0.00694277, 0.00707553,\n",
       "       0.00691429, 0.00688823, 0.00971899, 0.00992768, 0.01085967,\n",
       "       0.0102161 , 0.0139731 , 0.01456642, 0.01466879, 0.01331331,\n",
       "       0.01454551, 0.00588882, 0.00650526, 0.00646648, 0.00648411,\n",
       "       0.00630048, 0.00611946, 0.00567732, 0.00695118, 0.00654113,\n",
       "       0.00876492, 0.00625518, 0.00769158, 0.00713825, 0.00653724,\n",
       "       0.01151703, 0.01230258, 0.01218471, 0.01275063, 0.00846748,\n",
       "       0.007367  , 0.008606  , 0.00768219, 0.00812287, 0.00786103,\n",
       "       0.00775434, 0.00810981, 0.00665137, 0.00577772, 0.00617293,\n",
       "       0.00573648, 0.00599111, 0.00951222, 0.00733601, 0.00603281,\n",
       "       0.00655182, 0.00593516, 0.00600409, 0.0107693 , 0.00763626,\n",
       "       0.00580155, 0.00677912, 0.00618389, 0.00611128, 0.00836442,\n",
       "       0.00814774, 0.00637857, 0.00732599, 0.00633854, 0.00626539,\n",
       "       0.00907417, 0.00742652, 0.00618535, 0.00679747, 0.00636198,\n",
       "       0.00594251, 0.00866965, 0.0081565 , 0.00616419, 0.00708263,\n",
       "       0.00643998, 0.00607605, 0.00966964, 0.00783957, 0.00619325,\n",
       "       0.00712506, 0.0067005 , 0.00635291, 0.00913659, 0.00843321,\n",
       "       0.0062821 , 0.00756002, 0.00669673, 0.00628648, 0.0100602 ,\n",
       "       0.0097525 , 0.00887898, 0.0063891 , 0.00634924, 0.00925673,\n",
       "       0.00835583, 0.00797638, 0.00721175, 0.00706583, 0.00667703],\n",
       "      dtype=float32)"
      ]
     },
     "execution_count": 14,
     "metadata": {},
     "output_type": "execute_result"
    }
   ],
   "source": [
    "model.feature_importances_"
   ]
  },
  {
   "cell_type": "markdown",
   "metadata": {},
   "source": [
    "What do I have to submit? \n",
    "\n",
    "* model?\n",
    "* code?\n",
    "* predictions (submission.csv) ?"
   ]
  },
  {
   "cell_type": "code",
   "execution_count": null,
   "metadata": {},
   "outputs": [],
   "source": []
  }
 ],
 "metadata": {
  "kernelspec": {
   "display_name": "Python 3",
   "language": "python",
   "name": "python3"
  },
  "language_info": {
   "codemirror_mode": {
    "name": "ipython",
    "version": 3
   },
   "file_extension": ".py",
   "mimetype": "text/x-python",
   "name": "python",
   "nbconvert_exporter": "python",
   "pygments_lexer": "ipython3",
   "version": "3.7.6"
  },
  "toc": {
   "base_numbering": 1,
   "nav_menu": {},
   "number_sections": true,
   "sideBar": true,
   "skip_h1_title": false,
   "title_cell": "Table of Contents",
   "title_sidebar": "Contents",
   "toc_cell": false,
   "toc_position": {},
   "toc_section_display": true,
   "toc_window_display": false
  }
 },
 "nbformat": 4,
 "nbformat_minor": 4
}
